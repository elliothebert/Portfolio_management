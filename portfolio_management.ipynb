{
  "nbformat": 4,
  "nbformat_minor": 0,
  "metadata": {
    "colab": {
      "name": "portfolio management.ipynb",
      "provenance": [],
      "collapsed_sections": [],
      "authorship_tag": "ABX9TyNlPZ+qUZANNGY7CjAd8+8v",
      "include_colab_link": true
    },
    "kernelspec": {
      "name": "python3",
      "display_name": "Python 3"
    },
    "language_info": {
      "name": "python"
    }
  },
  "cells": [
    {
      "cell_type": "markdown",
      "metadata": {
        "id": "view-in-github",
        "colab_type": "text"
      },
      "source": [
        "<a href=\"https://colab.research.google.com/github/elliothebert/Portfolio_management/blob/main/portfolio_management.ipynb\" target=\"_parent\"><img src=\"https://colab.research.google.com/assets/colab-badge.svg\" alt=\"Open In Colab\"/></a>"
      ]
    },
    {
      "cell_type": "markdown",
      "source": [
        "# Portfolio Management\n",
        "\n",
        "The purpuse of this analysis is to optimize the allocation of a stock portfolio. We will use a Monte Carlo method, evaluate the sharpe ratio and compare the stocks individually with 2 benchmark."
      ],
      "metadata": {
        "id": "1DYYrdxT7P7r"
      }
    },
    {
      "cell_type": "code",
      "execution_count": 3,
      "metadata": {
        "id": "JPSHsoFEGfSf"
      },
      "outputs": [],
      "source": [
        "import pandas as pd\n",
        "import numpy as np\n",
        "import scipy as sci\n",
        "import matplotlib.pyplot as plt\n",
        "%matplotlib inline"
      ]
    },
    {
      "cell_type": "code",
      "source": [
        "!pip install quandl\n",
        "import quandl"
      ],
      "metadata": {
        "id": "5yychANrHV0C",
        "colab": {
          "base_uri": "https://localhost:8080/"
        },
        "outputId": "8a15b084-4792-47c4-b98a-e20975b2bdbb"
      },
      "execution_count": 5,
      "outputs": [
        {
          "output_type": "stream",
          "name": "stdout",
          "text": [
            "Requirement already satisfied: quandl in /usr/local/lib/python3.7/dist-packages (3.7.0)\n",
            "Requirement already satisfied: inflection>=0.3.1 in /usr/local/lib/python3.7/dist-packages (from quandl) (0.5.1)\n",
            "Requirement already satisfied: requests>=2.7.0 in /usr/local/lib/python3.7/dist-packages (from quandl) (2.27.1)\n",
            "Requirement already satisfied: numpy>=1.8 in /usr/local/lib/python3.7/dist-packages (from quandl) (1.19.5)\n",
            "Requirement already satisfied: six in /usr/local/lib/python3.7/dist-packages (from quandl) (1.15.0)\n",
            "Requirement already satisfied: pandas>=0.14 in /usr/local/lib/python3.7/dist-packages (from quandl) (1.1.5)\n",
            "Requirement already satisfied: more-itertools in /usr/local/lib/python3.7/dist-packages (from quandl) (8.12.0)\n",
            "Requirement already satisfied: python-dateutil in /usr/local/lib/python3.7/dist-packages (from quandl) (2.8.2)\n",
            "Requirement already satisfied: pytz>=2017.2 in /usr/local/lib/python3.7/dist-packages (from pandas>=0.14->quandl) (2018.9)\n",
            "Requirement already satisfied: charset-normalizer~=2.0.0 in /usr/local/lib/python3.7/dist-packages (from requests>=2.7.0->quandl) (2.0.9)\n",
            "Requirement already satisfied: urllib3<1.27,>=1.21.1 in /usr/local/lib/python3.7/dist-packages (from requests>=2.7.0->quandl) (1.24.3)\n",
            "Requirement already satisfied: certifi>=2017.4.17 in /usr/local/lib/python3.7/dist-packages (from requests>=2.7.0->quandl) (2021.10.8)\n",
            "Requirement already satisfied: idna<4,>=2.5 in /usr/local/lib/python3.7/dist-packages (from requests>=2.7.0->quandl) (2.10)\n"
          ]
        }
      ]
    },
    {
      "cell_type": "code",
      "source": [
        "!pip install yfinance\n",
        "import yfinance as yf"
      ],
      "metadata": {
        "colab": {
          "base_uri": "https://localhost:8080/"
        },
        "id": "bYVsBnPVqxJC",
        "outputId": "c3e1084d-7cd0-4701-abe4-1ccde61f9e2e"
      },
      "execution_count": 1,
      "outputs": [
        {
          "output_type": "stream",
          "name": "stdout",
          "text": [
            "Requirement already satisfied: yfinance in /usr/local/lib/python3.7/dist-packages (0.1.68)\n",
            "Requirement already satisfied: lxml>=4.5.1 in /usr/local/lib/python3.7/dist-packages (from yfinance) (4.7.1)\n",
            "Requirement already satisfied: requests>=2.26 in /usr/local/lib/python3.7/dist-packages (from yfinance) (2.27.1)\n",
            "Requirement already satisfied: multitasking>=0.0.7 in /usr/local/lib/python3.7/dist-packages (from yfinance) (0.0.10)\n",
            "Requirement already satisfied: numpy>=1.15 in /usr/local/lib/python3.7/dist-packages (from yfinance) (1.19.5)\n",
            "Requirement already satisfied: pandas>=0.24 in /usr/local/lib/python3.7/dist-packages (from yfinance) (1.1.5)\n",
            "Requirement already satisfied: python-dateutil>=2.7.3 in /usr/local/lib/python3.7/dist-packages (from pandas>=0.24->yfinance) (2.8.2)\n",
            "Requirement already satisfied: pytz>=2017.2 in /usr/local/lib/python3.7/dist-packages (from pandas>=0.24->yfinance) (2018.9)\n",
            "Requirement already satisfied: six>=1.5 in /usr/local/lib/python3.7/dist-packages (from python-dateutil>=2.7.3->pandas>=0.24->yfinance) (1.15.0)\n",
            "Requirement already satisfied: urllib3<1.27,>=1.21.1 in /usr/local/lib/python3.7/dist-packages (from requests>=2.26->yfinance) (1.24.3)\n",
            "Requirement already satisfied: certifi>=2017.4.17 in /usr/local/lib/python3.7/dist-packages (from requests>=2.26->yfinance) (2021.10.8)\n",
            "Requirement already satisfied: idna<4,>=2.5 in /usr/local/lib/python3.7/dist-packages (from requests>=2.26->yfinance) (2.10)\n",
            "Requirement already satisfied: charset-normalizer~=2.0.0 in /usr/local/lib/python3.7/dist-packages (from requests>=2.26->yfinance) (2.0.9)\n"
          ]
        }
      ]
    },
    {
      "cell_type": "code",
      "source": [
        "quandl.ApiConfig.api_key = \"ywek9zq_ayRPip4z15N4\""
      ],
      "metadata": {
        "id": "5w12YMeGHV2k"
      },
      "execution_count": 6,
      "outputs": []
    },
    {
      "cell_type": "code",
      "source": [
        "#Google - Stock Price\n",
        "start = pd.to_datetime('2012-01-01')\n",
        "end = pd.to_datetime('2018-01-01')\n",
        "data = quandl.get('WIKI/GOOGL', start_date = start, end_date=end)\n",
        "data.head(10)"
      ],
      "metadata": {
        "id": "Y8905jMPHVnP",
        "colab": {
          "base_uri": "https://localhost:8080/",
          "height": 390
        },
        "outputId": "a8cb41da-d251-404d-a8fe-38b88704b4bc"
      },
      "execution_count": 20,
      "outputs": [
        {
          "output_type": "execute_result",
          "data": {
            "text/html": [
              "\n",
              "  <div id=\"df-547f2290-0fa8-42d8-bc08-aa88f10ec527\">\n",
              "    <div class=\"colab-df-container\">\n",
              "      <div>\n",
              "<style scoped>\n",
              "    .dataframe tbody tr th:only-of-type {\n",
              "        vertical-align: middle;\n",
              "    }\n",
              "\n",
              "    .dataframe tbody tr th {\n",
              "        vertical-align: top;\n",
              "    }\n",
              "\n",
              "    .dataframe thead th {\n",
              "        text-align: right;\n",
              "    }\n",
              "</style>\n",
              "<table border=\"1\" class=\"dataframe\">\n",
              "  <thead>\n",
              "    <tr style=\"text-align: right;\">\n",
              "      <th></th>\n",
              "      <th>Open</th>\n",
              "      <th>High</th>\n",
              "      <th>Low</th>\n",
              "      <th>Close</th>\n",
              "      <th>Volume</th>\n",
              "      <th>Ex-Dividend</th>\n",
              "      <th>Split Ratio</th>\n",
              "      <th>Adj. Open</th>\n",
              "      <th>Adj. High</th>\n",
              "      <th>Adj. Low</th>\n",
              "      <th>Adj. Close</th>\n",
              "      <th>Adj. Volume</th>\n",
              "    </tr>\n",
              "    <tr>\n",
              "      <th>Date</th>\n",
              "      <th></th>\n",
              "      <th></th>\n",
              "      <th></th>\n",
              "      <th></th>\n",
              "      <th></th>\n",
              "      <th></th>\n",
              "      <th></th>\n",
              "      <th></th>\n",
              "      <th></th>\n",
              "      <th></th>\n",
              "      <th></th>\n",
              "      <th></th>\n",
              "    </tr>\n",
              "  </thead>\n",
              "  <tbody>\n",
              "    <tr>\n",
              "      <th>2012-01-03</th>\n",
              "      <td>652.94</td>\n",
              "      <td>668.15</td>\n",
              "      <td>652.370</td>\n",
              "      <td>665.41</td>\n",
              "      <td>7345600.0</td>\n",
              "      <td>0.0</td>\n",
              "      <td>1.0</td>\n",
              "      <td>327.480902</td>\n",
              "      <td>335.109451</td>\n",
              "      <td>327.195020</td>\n",
              "      <td>333.735209</td>\n",
              "      <td>7345600.0</td>\n",
              "    </tr>\n",
              "    <tr>\n",
              "      <th>2012-01-04</th>\n",
              "      <td>665.03</td>\n",
              "      <td>670.25</td>\n",
              "      <td>660.620</td>\n",
              "      <td>668.28</td>\n",
              "      <td>5722200.0</td>\n",
              "      <td>0.0</td>\n",
              "      <td>1.0</td>\n",
              "      <td>333.544620</td>\n",
              "      <td>336.162702</td>\n",
              "      <td>331.332793</td>\n",
              "      <td>335.174652</td>\n",
              "      <td>5722200.0</td>\n",
              "    </tr>\n",
              "    <tr>\n",
              "      <th>2012-01-05</th>\n",
              "      <td>662.13</td>\n",
              "      <td>663.97</td>\n",
              "      <td>656.230</td>\n",
              "      <td>659.01</td>\n",
              "      <td>6559200.0</td>\n",
              "      <td>0.0</td>\n",
              "      <td>1.0</td>\n",
              "      <td>332.090130</td>\n",
              "      <td>333.012979</td>\n",
              "      <td>329.130996</td>\n",
              "      <td>330.525300</td>\n",
              "      <td>6559200.0</td>\n",
              "    </tr>\n",
              "    <tr>\n",
              "      <th>2012-01-06</th>\n",
              "      <td>659.15</td>\n",
              "      <td>660.00</td>\n",
              "      <td>649.790</td>\n",
              "      <td>650.02</td>\n",
              "      <td>5380400.0</td>\n",
              "      <td>0.0</td>\n",
              "      <td>1.0</td>\n",
              "      <td>330.595517</td>\n",
              "      <td>331.021833</td>\n",
              "      <td>325.901025</td>\n",
              "      <td>326.016381</td>\n",
              "      <td>5380400.0</td>\n",
              "    </tr>\n",
              "    <tr>\n",
              "      <th>2012-01-09</th>\n",
              "      <td>646.50</td>\n",
              "      <td>647.00</td>\n",
              "      <td>621.230</td>\n",
              "      <td>622.46</td>\n",
              "      <td>11633500.0</td>\n",
              "      <td>0.0</td>\n",
              "      <td>1.0</td>\n",
              "      <td>324.250932</td>\n",
              "      <td>324.501706</td>\n",
              "      <td>311.576808</td>\n",
              "      <td>312.193712</td>\n",
              "      <td>11633500.0</td>\n",
              "    </tr>\n",
              "    <tr>\n",
              "      <th>2012-01-10</th>\n",
              "      <td>629.75</td>\n",
              "      <td>633.80</td>\n",
              "      <td>616.910</td>\n",
              "      <td>623.14</td>\n",
              "      <td>8782400.0</td>\n",
              "      <td>0.0</td>\n",
              "      <td>1.0</td>\n",
              "      <td>315.849999</td>\n",
              "      <td>317.881269</td>\n",
              "      <td>309.410119</td>\n",
              "      <td>312.534765</td>\n",
              "      <td>8782400.0</td>\n",
              "    </tr>\n",
              "    <tr>\n",
              "      <th>2012-01-11</th>\n",
              "      <td>623.50</td>\n",
              "      <td>629.39</td>\n",
              "      <td>621.124</td>\n",
              "      <td>625.96</td>\n",
              "      <td>4795200.0</td>\n",
              "      <td>0.0</td>\n",
              "      <td>1.0</td>\n",
              "      <td>312.715322</td>\n",
              "      <td>315.669441</td>\n",
              "      <td>311.523644</td>\n",
              "      <td>313.949131</td>\n",
              "      <td>4795200.0</td>\n",
              "    </tr>\n",
              "    <tr>\n",
              "      <th>2012-01-12</th>\n",
              "      <td>631.22</td>\n",
              "      <td>632.89</td>\n",
              "      <td>626.500</td>\n",
              "      <td>629.64</td>\n",
              "      <td>3746600.0</td>\n",
              "      <td>0.0</td>\n",
              "      <td>1.0</td>\n",
              "      <td>316.587275</td>\n",
              "      <td>317.424860</td>\n",
              "      <td>314.219967</td>\n",
              "      <td>315.794828</td>\n",
              "      <td>3746600.0</td>\n",
              "    </tr>\n",
              "    <tr>\n",
              "      <th>2012-01-13</th>\n",
              "      <td>626.26</td>\n",
              "      <td>626.95</td>\n",
              "      <td>621.060</td>\n",
              "      <td>624.99</td>\n",
              "      <td>4609900.0</td>\n",
              "      <td>0.0</td>\n",
              "      <td>1.0</td>\n",
              "      <td>314.099595</td>\n",
              "      <td>314.445664</td>\n",
              "      <td>311.491545</td>\n",
              "      <td>313.462629</td>\n",
              "      <td>4609900.0</td>\n",
              "    </tr>\n",
              "    <tr>\n",
              "      <th>2012-01-17</th>\n",
              "      <td>631.98</td>\n",
              "      <td>631.98</td>\n",
              "      <td>625.680</td>\n",
              "      <td>628.58</td>\n",
              "      <td>3814700.0</td>\n",
              "      <td>0.0</td>\n",
              "      <td>1.0</td>\n",
              "      <td>316.968451</td>\n",
              "      <td>316.968451</td>\n",
              "      <td>313.808697</td>\n",
              "      <td>315.263187</td>\n",
              "      <td>3814700.0</td>\n",
              "    </tr>\n",
              "  </tbody>\n",
              "</table>\n",
              "</div>\n",
              "      <button class=\"colab-df-convert\" onclick=\"convertToInteractive('df-547f2290-0fa8-42d8-bc08-aa88f10ec527')\"\n",
              "              title=\"Convert this dataframe to an interactive table.\"\n",
              "              style=\"display:none;\">\n",
              "        \n",
              "  <svg xmlns=\"http://www.w3.org/2000/svg\" height=\"24px\"viewBox=\"0 0 24 24\"\n",
              "       width=\"24px\">\n",
              "    <path d=\"M0 0h24v24H0V0z\" fill=\"none\"/>\n",
              "    <path d=\"M18.56 5.44l.94 2.06.94-2.06 2.06-.94-2.06-.94-.94-2.06-.94 2.06-2.06.94zm-11 1L8.5 8.5l.94-2.06 2.06-.94-2.06-.94L8.5 2.5l-.94 2.06-2.06.94zm10 10l.94 2.06.94-2.06 2.06-.94-2.06-.94-.94-2.06-.94 2.06-2.06.94z\"/><path d=\"M17.41 7.96l-1.37-1.37c-.4-.4-.92-.59-1.43-.59-.52 0-1.04.2-1.43.59L10.3 9.45l-7.72 7.72c-.78.78-.78 2.05 0 2.83L4 21.41c.39.39.9.59 1.41.59.51 0 1.02-.2 1.41-.59l7.78-7.78 2.81-2.81c.8-.78.8-2.07 0-2.86zM5.41 20L4 18.59l7.72-7.72 1.47 1.35L5.41 20z\"/>\n",
              "  </svg>\n",
              "      </button>\n",
              "      \n",
              "  <style>\n",
              "    .colab-df-container {\n",
              "      display:flex;\n",
              "      flex-wrap:wrap;\n",
              "      gap: 12px;\n",
              "    }\n",
              "\n",
              "    .colab-df-convert {\n",
              "      background-color: #E8F0FE;\n",
              "      border: none;\n",
              "      border-radius: 50%;\n",
              "      cursor: pointer;\n",
              "      display: none;\n",
              "      fill: #1967D2;\n",
              "      height: 32px;\n",
              "      padding: 0 0 0 0;\n",
              "      width: 32px;\n",
              "    }\n",
              "\n",
              "    .colab-df-convert:hover {\n",
              "      background-color: #E2EBFA;\n",
              "      box-shadow: 0px 1px 2px rgba(60, 64, 67, 0.3), 0px 1px 3px 1px rgba(60, 64, 67, 0.15);\n",
              "      fill: #174EA6;\n",
              "    }\n",
              "\n",
              "    [theme=dark] .colab-df-convert {\n",
              "      background-color: #3B4455;\n",
              "      fill: #D2E3FC;\n",
              "    }\n",
              "\n",
              "    [theme=dark] .colab-df-convert:hover {\n",
              "      background-color: #434B5C;\n",
              "      box-shadow: 0px 1px 3px 1px rgba(0, 0, 0, 0.15);\n",
              "      filter: drop-shadow(0px 1px 2px rgba(0, 0, 0, 0.3));\n",
              "      fill: #FFFFFF;\n",
              "    }\n",
              "  </style>\n",
              "\n",
              "      <script>\n",
              "        const buttonEl =\n",
              "          document.querySelector('#df-547f2290-0fa8-42d8-bc08-aa88f10ec527 button.colab-df-convert');\n",
              "        buttonEl.style.display =\n",
              "          google.colab.kernel.accessAllowed ? 'block' : 'none';\n",
              "\n",
              "        async function convertToInteractive(key) {\n",
              "          const element = document.querySelector('#df-547f2290-0fa8-42d8-bc08-aa88f10ec527');\n",
              "          const dataTable =\n",
              "            await google.colab.kernel.invokeFunction('convertToInteractive',\n",
              "                                                     [key], {});\n",
              "          if (!dataTable) return;\n",
              "\n",
              "          const docLinkHtml = 'Like what you see? Visit the ' +\n",
              "            '<a target=\"_blank\" href=https://colab.research.google.com/notebooks/data_table.ipynb>data table notebook</a>'\n",
              "            + ' to learn more about interactive tables.';\n",
              "          element.innerHTML = '';\n",
              "          dataTable['output_type'] = 'display_data';\n",
              "          await google.colab.output.renderOutput(dataTable, element);\n",
              "          const docLink = document.createElement('div');\n",
              "          docLink.innerHTML = docLinkHtml;\n",
              "          element.appendChild(docLink);\n",
              "        }\n",
              "      </script>\n",
              "    </div>\n",
              "  </div>\n",
              "  "
            ],
            "text/plain": [
              "              Open    High      Low  ...    Adj. Low  Adj. Close  Adj. Volume\n",
              "Date                                 ...                                     \n",
              "2012-01-03  652.94  668.15  652.370  ...  327.195020  333.735209    7345600.0\n",
              "2012-01-04  665.03  670.25  660.620  ...  331.332793  335.174652    5722200.0\n",
              "2012-01-05  662.13  663.97  656.230  ...  329.130996  330.525300    6559200.0\n",
              "2012-01-06  659.15  660.00  649.790  ...  325.901025  326.016381    5380400.0\n",
              "2012-01-09  646.50  647.00  621.230  ...  311.576808  312.193712   11633500.0\n",
              "2012-01-10  629.75  633.80  616.910  ...  309.410119  312.534765    8782400.0\n",
              "2012-01-11  623.50  629.39  621.124  ...  311.523644  313.949131    4795200.0\n",
              "2012-01-12  631.22  632.89  626.500  ...  314.219967  315.794828    3746600.0\n",
              "2012-01-13  626.26  626.95  621.060  ...  311.491545  313.462629    4609900.0\n",
              "2012-01-17  631.98  631.98  625.680  ...  313.808697  315.263187    3814700.0\n",
              "\n",
              "[10 rows x 12 columns]"
            ]
          },
          "metadata": {},
          "execution_count": 20
        }
      ]
    },
    {
      "cell_type": "code",
      "source": [
        "df = data['Close']\n",
        "df.head(10)"
      ],
      "metadata": {
        "id": "ORVRa0GnHVvd",
        "colab": {
          "base_uri": "https://localhost:8080/"
        },
        "outputId": "374d4b91-06cf-469b-fbda-81520fa0a382"
      },
      "execution_count": 21,
      "outputs": [
        {
          "output_type": "execute_result",
          "data": {
            "text/plain": [
              "Date\n",
              "2012-01-03    665.41\n",
              "2012-01-04    668.28\n",
              "2012-01-05    659.01\n",
              "2012-01-06    650.02\n",
              "2012-01-09    622.46\n",
              "2012-01-10    623.14\n",
              "2012-01-11    625.96\n",
              "2012-01-12    629.64\n",
              "2012-01-13    624.99\n",
              "2012-01-17    628.58\n",
              "Name: Close, dtype: float64"
            ]
          },
          "metadata": {},
          "execution_count": 21
        }
      ]
    },
    {
      "cell_type": "code",
      "source": [
        "# United Health - Closing Stock Price\n",
        "data2 = quandl.get('WIKI/UNH', start_date = start, end_date=end)\n",
        "df2=data2['Close']\n",
        "df2.head(10)"
      ],
      "metadata": {
        "id": "th_R_7VkHV5K",
        "colab": {
          "base_uri": "https://localhost:8080/"
        },
        "outputId": "96dd755b-14d4-4b35-b2c1-461736abcf07"
      },
      "execution_count": 49,
      "outputs": [
        {
          "output_type": "execute_result",
          "data": {
            "text/plain": [
              "Date\n",
              "2012-01-03    51.49\n",
              "2012-01-04    52.24\n",
              "2012-01-05    52.59\n",
              "2012-01-06    52.78\n",
              "2012-01-09    52.72\n",
              "2012-01-10    52.62\n",
              "2012-01-11    53.01\n",
              "2012-01-12    52.87\n",
              "2012-01-13    52.70\n",
              "2012-01-17    53.57\n",
              "Name: Close, dtype: float64"
            ]
          },
          "metadata": {},
          "execution_count": 49
        }
      ]
    },
    {
      "cell_type": "code",
      "source": [
        "# Morgan Stanley - Closing Stock Price\n",
        "data3 = quandl.get('WIKI/MS', start_date = start, end_date=end)\n",
        "df3=data3['Close']\n",
        "df3.head(10)"
      ],
      "metadata": {
        "id": "RU1S9MLrHV-J",
        "colab": {
          "base_uri": "https://localhost:8080/"
        },
        "outputId": "cf64e0ec-9e25-491d-c3c6-9cdc58b3e33c"
      },
      "execution_count": 24,
      "outputs": [
        {
          "output_type": "execute_result",
          "data": {
            "text/plain": [
              "Date\n",
              "2012-01-03    16.08\n",
              "2012-01-04    15.94\n",
              "2012-01-05    16.28\n",
              "2012-01-06    15.90\n",
              "2012-01-09    16.20\n",
              "2012-01-10    16.89\n",
              "2012-01-11    17.10\n",
              "2012-01-12    17.17\n",
              "2012-01-13    16.63\n",
              "2012-01-17    16.25\n",
              "Name: Close, dtype: float64"
            ]
          },
          "metadata": {},
          "execution_count": 24
        }
      ]
    },
    {
      "cell_type": "code",
      "source": [
        "result = pd.concat([df, df2, df3], axis=1, join=\"inner\")\n",
        "result.columns =['GOOGL', 'UNH', 'MS']\n",
        "result"
      ],
      "metadata": {
        "id": "sFaWz2-PHV78",
        "colab": {
          "base_uri": "https://localhost:8080/",
          "height": 450
        },
        "outputId": "0df829bd-7ab2-4e0e-9301-aa0bfd6c69a3"
      },
      "execution_count": 35,
      "outputs": [
        {
          "output_type": "execute_result",
          "data": {
            "text/html": [
              "\n",
              "  <div id=\"df-8d2b66bc-bdf9-4217-be84-55e2ed0177b3\">\n",
              "    <div class=\"colab-df-container\">\n",
              "      <div>\n",
              "<style scoped>\n",
              "    .dataframe tbody tr th:only-of-type {\n",
              "        vertical-align: middle;\n",
              "    }\n",
              "\n",
              "    .dataframe tbody tr th {\n",
              "        vertical-align: top;\n",
              "    }\n",
              "\n",
              "    .dataframe thead th {\n",
              "        text-align: right;\n",
              "    }\n",
              "</style>\n",
              "<table border=\"1\" class=\"dataframe\">\n",
              "  <thead>\n",
              "    <tr style=\"text-align: right;\">\n",
              "      <th></th>\n",
              "      <th>GOOGL</th>\n",
              "      <th>UNH</th>\n",
              "      <th>MS</th>\n",
              "    </tr>\n",
              "    <tr>\n",
              "      <th>Date</th>\n",
              "      <th></th>\n",
              "      <th></th>\n",
              "      <th></th>\n",
              "    </tr>\n",
              "  </thead>\n",
              "  <tbody>\n",
              "    <tr>\n",
              "      <th>2012-01-03</th>\n",
              "      <td>665.41</td>\n",
              "      <td>51.49</td>\n",
              "      <td>16.08</td>\n",
              "    </tr>\n",
              "    <tr>\n",
              "      <th>2012-01-04</th>\n",
              "      <td>668.28</td>\n",
              "      <td>52.24</td>\n",
              "      <td>15.94</td>\n",
              "    </tr>\n",
              "    <tr>\n",
              "      <th>2012-01-05</th>\n",
              "      <td>659.01</td>\n",
              "      <td>52.59</td>\n",
              "      <td>16.28</td>\n",
              "    </tr>\n",
              "    <tr>\n",
              "      <th>2012-01-06</th>\n",
              "      <td>650.02</td>\n",
              "      <td>52.78</td>\n",
              "      <td>15.90</td>\n",
              "    </tr>\n",
              "    <tr>\n",
              "      <th>2012-01-09</th>\n",
              "      <td>622.46</td>\n",
              "      <td>52.72</td>\n",
              "      <td>16.20</td>\n",
              "    </tr>\n",
              "    <tr>\n",
              "      <th>...</th>\n",
              "      <td>...</td>\n",
              "      <td>...</td>\n",
              "      <td>...</td>\n",
              "    </tr>\n",
              "    <tr>\n",
              "      <th>2017-12-22</th>\n",
              "      <td>1068.86</td>\n",
              "      <td>220.00</td>\n",
              "      <td>52.72</td>\n",
              "    </tr>\n",
              "    <tr>\n",
              "      <th>2017-12-26</th>\n",
              "      <td>1065.85</td>\n",
              "      <td>219.60</td>\n",
              "      <td>52.47</td>\n",
              "    </tr>\n",
              "    <tr>\n",
              "      <th>2017-12-27</th>\n",
              "      <td>1060.20</td>\n",
              "      <td>220.42</td>\n",
              "      <td>52.57</td>\n",
              "    </tr>\n",
              "    <tr>\n",
              "      <th>2017-12-28</th>\n",
              "      <td>1055.95</td>\n",
              "      <td>222.77</td>\n",
              "      <td>52.65</td>\n",
              "    </tr>\n",
              "    <tr>\n",
              "      <th>2017-12-29</th>\n",
              "      <td>1053.40</td>\n",
              "      <td>220.46</td>\n",
              "      <td>52.47</td>\n",
              "    </tr>\n",
              "  </tbody>\n",
              "</table>\n",
              "<p>1508 rows × 3 columns</p>\n",
              "</div>\n",
              "      <button class=\"colab-df-convert\" onclick=\"convertToInteractive('df-8d2b66bc-bdf9-4217-be84-55e2ed0177b3')\"\n",
              "              title=\"Convert this dataframe to an interactive table.\"\n",
              "              style=\"display:none;\">\n",
              "        \n",
              "  <svg xmlns=\"http://www.w3.org/2000/svg\" height=\"24px\"viewBox=\"0 0 24 24\"\n",
              "       width=\"24px\">\n",
              "    <path d=\"M0 0h24v24H0V0z\" fill=\"none\"/>\n",
              "    <path d=\"M18.56 5.44l.94 2.06.94-2.06 2.06-.94-2.06-.94-.94-2.06-.94 2.06-2.06.94zm-11 1L8.5 8.5l.94-2.06 2.06-.94-2.06-.94L8.5 2.5l-.94 2.06-2.06.94zm10 10l.94 2.06.94-2.06 2.06-.94-2.06-.94-.94-2.06-.94 2.06-2.06.94z\"/><path d=\"M17.41 7.96l-1.37-1.37c-.4-.4-.92-.59-1.43-.59-.52 0-1.04.2-1.43.59L10.3 9.45l-7.72 7.72c-.78.78-.78 2.05 0 2.83L4 21.41c.39.39.9.59 1.41.59.51 0 1.02-.2 1.41-.59l7.78-7.78 2.81-2.81c.8-.78.8-2.07 0-2.86zM5.41 20L4 18.59l7.72-7.72 1.47 1.35L5.41 20z\"/>\n",
              "  </svg>\n",
              "      </button>\n",
              "      \n",
              "  <style>\n",
              "    .colab-df-container {\n",
              "      display:flex;\n",
              "      flex-wrap:wrap;\n",
              "      gap: 12px;\n",
              "    }\n",
              "\n",
              "    .colab-df-convert {\n",
              "      background-color: #E8F0FE;\n",
              "      border: none;\n",
              "      border-radius: 50%;\n",
              "      cursor: pointer;\n",
              "      display: none;\n",
              "      fill: #1967D2;\n",
              "      height: 32px;\n",
              "      padding: 0 0 0 0;\n",
              "      width: 32px;\n",
              "    }\n",
              "\n",
              "    .colab-df-convert:hover {\n",
              "      background-color: #E2EBFA;\n",
              "      box-shadow: 0px 1px 2px rgba(60, 64, 67, 0.3), 0px 1px 3px 1px rgba(60, 64, 67, 0.15);\n",
              "      fill: #174EA6;\n",
              "    }\n",
              "\n",
              "    [theme=dark] .colab-df-convert {\n",
              "      background-color: #3B4455;\n",
              "      fill: #D2E3FC;\n",
              "    }\n",
              "\n",
              "    [theme=dark] .colab-df-convert:hover {\n",
              "      background-color: #434B5C;\n",
              "      box-shadow: 0px 1px 3px 1px rgba(0, 0, 0, 0.15);\n",
              "      filter: drop-shadow(0px 1px 2px rgba(0, 0, 0, 0.3));\n",
              "      fill: #FFFFFF;\n",
              "    }\n",
              "  </style>\n",
              "\n",
              "      <script>\n",
              "        const buttonEl =\n",
              "          document.querySelector('#df-8d2b66bc-bdf9-4217-be84-55e2ed0177b3 button.colab-df-convert');\n",
              "        buttonEl.style.display =\n",
              "          google.colab.kernel.accessAllowed ? 'block' : 'none';\n",
              "\n",
              "        async function convertToInteractive(key) {\n",
              "          const element = document.querySelector('#df-8d2b66bc-bdf9-4217-be84-55e2ed0177b3');\n",
              "          const dataTable =\n",
              "            await google.colab.kernel.invokeFunction('convertToInteractive',\n",
              "                                                     [key], {});\n",
              "          if (!dataTable) return;\n",
              "\n",
              "          const docLinkHtml = 'Like what you see? Visit the ' +\n",
              "            '<a target=\"_blank\" href=https://colab.research.google.com/notebooks/data_table.ipynb>data table notebook</a>'\n",
              "            + ' to learn more about interactive tables.';\n",
              "          element.innerHTML = '';\n",
              "          dataTable['output_type'] = 'display_data';\n",
              "          await google.colab.output.renderOutput(dataTable, element);\n",
              "          const docLink = document.createElement('div');\n",
              "          docLink.innerHTML = docLinkHtml;\n",
              "          element.appendChild(docLink);\n",
              "        }\n",
              "      </script>\n",
              "    </div>\n",
              "  </div>\n",
              "  "
            ],
            "text/plain": [
              "              GOOGL     UNH     MS\n",
              "Date                              \n",
              "2012-01-03   665.41   51.49  16.08\n",
              "2012-01-04   668.28   52.24  15.94\n",
              "2012-01-05   659.01   52.59  16.28\n",
              "2012-01-06   650.02   52.78  15.90\n",
              "2012-01-09   622.46   52.72  16.20\n",
              "...             ...     ...    ...\n",
              "2017-12-22  1068.86  220.00  52.72\n",
              "2017-12-26  1065.85  219.60  52.47\n",
              "2017-12-27  1060.20  220.42  52.57\n",
              "2017-12-28  1055.95  222.77  52.65\n",
              "2017-12-29  1053.40  220.46  52.47\n",
              "\n",
              "[1508 rows x 3 columns]"
            ]
          },
          "metadata": {},
          "execution_count": 35
        }
      ]
    },
    {
      "cell_type": "code",
      "source": [
        "result.info()"
      ],
      "metadata": {
        "colab": {
          "base_uri": "https://localhost:8080/"
        },
        "id": "pegHIw-JxWqA",
        "outputId": "f8cf6999-7349-4500-dcd7-e81b886899b7"
      },
      "execution_count": 10,
      "outputs": [
        {
          "output_type": "stream",
          "name": "stdout",
          "text": [
            "<class 'pandas.core.frame.DataFrame'>\n",
            "DatetimeIndex: 1508 entries, 2012-01-03 to 2017-12-29\n",
            "Data columns (total 3 columns):\n",
            " #   Column  Non-Null Count  Dtype  \n",
            "---  ------  --------------  -----  \n",
            " 0   GOOGL   1508 non-null   float64\n",
            " 1   TSLA    1508 non-null   float64\n",
            " 2   MS      1508 non-null   float64\n",
            "dtypes: float64(3)\n",
            "memory usage: 47.1 KB\n"
          ]
        }
      ]
    },
    {
      "cell_type": "markdown",
      "source": [
        "Now that we have the data for the 3 companies in our portfolio, we will be able to start the analysis.\n",
        "As in many financial models (Black-Scholes for example), it is better to calculate the log return over a long period instead of the average return."
      ],
      "metadata": {
        "id": "iOsuobL90lDO"
      }
    },
    {
      "cell_type": "code",
      "source": [
        "log_return = np.log(1 + result.pct_change())\n",
        "\n",
        "log_return"
      ],
      "metadata": {
        "id": "fbsYhzUyHWC1",
        "colab": {
          "base_uri": "https://localhost:8080/",
          "height": 450
        },
        "outputId": "8e95e92d-cbbd-4fc3-dcff-b271c7c3f52e"
      },
      "execution_count": 37,
      "outputs": [
        {
          "output_type": "execute_result",
          "data": {
            "text/html": [
              "\n",
              "  <div id=\"df-42fe1c61-5e03-416d-94ce-d64e8c9d02cf\">\n",
              "    <div class=\"colab-df-container\">\n",
              "      <div>\n",
              "<style scoped>\n",
              "    .dataframe tbody tr th:only-of-type {\n",
              "        vertical-align: middle;\n",
              "    }\n",
              "\n",
              "    .dataframe tbody tr th {\n",
              "        vertical-align: top;\n",
              "    }\n",
              "\n",
              "    .dataframe thead th {\n",
              "        text-align: right;\n",
              "    }\n",
              "</style>\n",
              "<table border=\"1\" class=\"dataframe\">\n",
              "  <thead>\n",
              "    <tr style=\"text-align: right;\">\n",
              "      <th></th>\n",
              "      <th>GOOGL</th>\n",
              "      <th>UNH</th>\n",
              "      <th>MS</th>\n",
              "    </tr>\n",
              "    <tr>\n",
              "      <th>Date</th>\n",
              "      <th></th>\n",
              "      <th></th>\n",
              "      <th></th>\n",
              "    </tr>\n",
              "  </thead>\n",
              "  <tbody>\n",
              "    <tr>\n",
              "      <th>2012-01-03</th>\n",
              "      <td>NaN</td>\n",
              "      <td>NaN</td>\n",
              "      <td>NaN</td>\n",
              "    </tr>\n",
              "    <tr>\n",
              "      <th>2012-01-04</th>\n",
              "      <td>0.004304</td>\n",
              "      <td>0.014461</td>\n",
              "      <td>-0.008745</td>\n",
              "    </tr>\n",
              "    <tr>\n",
              "      <th>2012-01-05</th>\n",
              "      <td>-0.013969</td>\n",
              "      <td>0.006678</td>\n",
              "      <td>0.021106</td>\n",
              "    </tr>\n",
              "    <tr>\n",
              "      <th>2012-01-06</th>\n",
              "      <td>-0.013736</td>\n",
              "      <td>0.003606</td>\n",
              "      <td>-0.023618</td>\n",
              "    </tr>\n",
              "    <tr>\n",
              "      <th>2012-01-09</th>\n",
              "      <td>-0.043324</td>\n",
              "      <td>-0.001137</td>\n",
              "      <td>0.018692</td>\n",
              "    </tr>\n",
              "    <tr>\n",
              "      <th>...</th>\n",
              "      <td>...</td>\n",
              "      <td>...</td>\n",
              "      <td>...</td>\n",
              "    </tr>\n",
              "    <tr>\n",
              "      <th>2017-12-22</th>\n",
              "      <td>-0.001860</td>\n",
              "      <td>-0.007652</td>\n",
              "      <td>-0.003030</td>\n",
              "    </tr>\n",
              "    <tr>\n",
              "      <th>2017-12-26</th>\n",
              "      <td>-0.002820</td>\n",
              "      <td>-0.001820</td>\n",
              "      <td>-0.004753</td>\n",
              "    </tr>\n",
              "    <tr>\n",
              "      <th>2017-12-27</th>\n",
              "      <td>-0.005315</td>\n",
              "      <td>0.003727</td>\n",
              "      <td>0.001904</td>\n",
              "    </tr>\n",
              "    <tr>\n",
              "      <th>2017-12-28</th>\n",
              "      <td>-0.004017</td>\n",
              "      <td>0.010605</td>\n",
              "      <td>0.001521</td>\n",
              "    </tr>\n",
              "    <tr>\n",
              "      <th>2017-12-29</th>\n",
              "      <td>-0.002418</td>\n",
              "      <td>-0.010424</td>\n",
              "      <td>-0.003425</td>\n",
              "    </tr>\n",
              "  </tbody>\n",
              "</table>\n",
              "<p>1508 rows × 3 columns</p>\n",
              "</div>\n",
              "      <button class=\"colab-df-convert\" onclick=\"convertToInteractive('df-42fe1c61-5e03-416d-94ce-d64e8c9d02cf')\"\n",
              "              title=\"Convert this dataframe to an interactive table.\"\n",
              "              style=\"display:none;\">\n",
              "        \n",
              "  <svg xmlns=\"http://www.w3.org/2000/svg\" height=\"24px\"viewBox=\"0 0 24 24\"\n",
              "       width=\"24px\">\n",
              "    <path d=\"M0 0h24v24H0V0z\" fill=\"none\"/>\n",
              "    <path d=\"M18.56 5.44l.94 2.06.94-2.06 2.06-.94-2.06-.94-.94-2.06-.94 2.06-2.06.94zm-11 1L8.5 8.5l.94-2.06 2.06-.94-2.06-.94L8.5 2.5l-.94 2.06-2.06.94zm10 10l.94 2.06.94-2.06 2.06-.94-2.06-.94-.94-2.06-.94 2.06-2.06.94z\"/><path d=\"M17.41 7.96l-1.37-1.37c-.4-.4-.92-.59-1.43-.59-.52 0-1.04.2-1.43.59L10.3 9.45l-7.72 7.72c-.78.78-.78 2.05 0 2.83L4 21.41c.39.39.9.59 1.41.59.51 0 1.02-.2 1.41-.59l7.78-7.78 2.81-2.81c.8-.78.8-2.07 0-2.86zM5.41 20L4 18.59l7.72-7.72 1.47 1.35L5.41 20z\"/>\n",
              "  </svg>\n",
              "      </button>\n",
              "      \n",
              "  <style>\n",
              "    .colab-df-container {\n",
              "      display:flex;\n",
              "      flex-wrap:wrap;\n",
              "      gap: 12px;\n",
              "    }\n",
              "\n",
              "    .colab-df-convert {\n",
              "      background-color: #E8F0FE;\n",
              "      border: none;\n",
              "      border-radius: 50%;\n",
              "      cursor: pointer;\n",
              "      display: none;\n",
              "      fill: #1967D2;\n",
              "      height: 32px;\n",
              "      padding: 0 0 0 0;\n",
              "      width: 32px;\n",
              "    }\n",
              "\n",
              "    .colab-df-convert:hover {\n",
              "      background-color: #E2EBFA;\n",
              "      box-shadow: 0px 1px 2px rgba(60, 64, 67, 0.3), 0px 1px 3px 1px rgba(60, 64, 67, 0.15);\n",
              "      fill: #174EA6;\n",
              "    }\n",
              "\n",
              "    [theme=dark] .colab-df-convert {\n",
              "      background-color: #3B4455;\n",
              "      fill: #D2E3FC;\n",
              "    }\n",
              "\n",
              "    [theme=dark] .colab-df-convert:hover {\n",
              "      background-color: #434B5C;\n",
              "      box-shadow: 0px 1px 3px 1px rgba(0, 0, 0, 0.15);\n",
              "      filter: drop-shadow(0px 1px 2px rgba(0, 0, 0, 0.3));\n",
              "      fill: #FFFFFF;\n",
              "    }\n",
              "  </style>\n",
              "\n",
              "      <script>\n",
              "        const buttonEl =\n",
              "          document.querySelector('#df-42fe1c61-5e03-416d-94ce-d64e8c9d02cf button.colab-df-convert');\n",
              "        buttonEl.style.display =\n",
              "          google.colab.kernel.accessAllowed ? 'block' : 'none';\n",
              "\n",
              "        async function convertToInteractive(key) {\n",
              "          const element = document.querySelector('#df-42fe1c61-5e03-416d-94ce-d64e8c9d02cf');\n",
              "          const dataTable =\n",
              "            await google.colab.kernel.invokeFunction('convertToInteractive',\n",
              "                                                     [key], {});\n",
              "          if (!dataTable) return;\n",
              "\n",
              "          const docLinkHtml = 'Like what you see? Visit the ' +\n",
              "            '<a target=\"_blank\" href=https://colab.research.google.com/notebooks/data_table.ipynb>data table notebook</a>'\n",
              "            + ' to learn more about interactive tables.';\n",
              "          element.innerHTML = '';\n",
              "          dataTable['output_type'] = 'display_data';\n",
              "          await google.colab.output.renderOutput(dataTable, element);\n",
              "          const docLink = document.createElement('div');\n",
              "          docLink.innerHTML = docLinkHtml;\n",
              "          element.appendChild(docLink);\n",
              "        }\n",
              "      </script>\n",
              "    </div>\n",
              "  </div>\n",
              "  "
            ],
            "text/plain": [
              "               GOOGL       UNH        MS\n",
              "Date                                    \n",
              "2012-01-03       NaN       NaN       NaN\n",
              "2012-01-04  0.004304  0.014461 -0.008745\n",
              "2012-01-05 -0.013969  0.006678  0.021106\n",
              "2012-01-06 -0.013736  0.003606 -0.023618\n",
              "2012-01-09 -0.043324 -0.001137  0.018692\n",
              "...              ...       ...       ...\n",
              "2017-12-22 -0.001860 -0.007652 -0.003030\n",
              "2017-12-26 -0.002820 -0.001820 -0.004753\n",
              "2017-12-27 -0.005315  0.003727  0.001904\n",
              "2017-12-28 -0.004017  0.010605  0.001521\n",
              "2017-12-29 -0.002418 -0.010424 -0.003425\n",
              "\n",
              "[1508 rows x 3 columns]"
            ]
          },
          "metadata": {},
          "execution_count": 37
        }
      ]
    },
    {
      "cell_type": "markdown",
      "source": [
        "Regarding the allocation of equities in the portfolio, we will generate this randomly and then we will perform a Monte Carlo simulation in order to obtain the distribution that will allow us to have the best risk / return ratio (Sharpe Ratio) or the minimum volatility."
      ],
      "metadata": {
        "id": "xaf4J8K2-DEq"
      }
    },
    {
      "cell_type": "code",
      "source": [
        "number_stocks = 3\n",
        "\n",
        "random_weights = np.array(np.random.random(number_stocks))\n",
        "\n",
        "sum_weights = np.sum(random_weights)\n",
        "\n",
        "rebalance = random_weights / sum_weights \n",
        "\n",
        "rebalance"
      ],
      "metadata": {
        "colab": {
          "base_uri": "https://localhost:8080/"
        },
        "id": "NwUi9iNwxWfU",
        "outputId": "56a8851e-0a9a-4efe-d1d7-5b541605ad35"
      },
      "execution_count": 38,
      "outputs": [
        {
          "output_type": "execute_result",
          "data": {
            "text/plain": [
              "array([0.44960628, 0.02036457, 0.53002915])"
            ]
          },
          "metadata": {},
          "execution_count": 38
        }
      ]
    },
    {
      "cell_type": "code",
      "source": [
        "daily_std = log_return.std()\n",
        "daily_std"
      ],
      "metadata": {
        "colab": {
          "base_uri": "https://localhost:8080/"
        },
        "id": "O6deyc6nxWse",
        "outputId": "afe6fa95-ff42-4586-fe22-44a7af15f275"
      },
      "execution_count": 39,
      "outputs": [
        {
          "output_type": "execute_result",
          "data": {
            "text/plain": [
              "GOOGL    0.022427\n",
              "UNH      0.012663\n",
              "MS       0.018026\n",
              "dtype: float64"
            ]
          },
          "metadata": {},
          "execution_count": 39
        }
      ]
    },
    {
      "cell_type": "code",
      "source": [
        "annual_volatility = log_return.std()*252**.5\n",
        "annual_volatility"
      ],
      "metadata": {
        "colab": {
          "base_uri": "https://localhost:8080/"
        },
        "id": "06D6golAxWxf",
        "outputId": "b58c6867-75d1-4617-f3c8-0db21be62880"
      },
      "execution_count": 40,
      "outputs": [
        {
          "output_type": "execute_result",
          "data": {
            "text/plain": [
              "GOOGL    0.356010\n",
              "UNH      0.201023\n",
              "MS       0.286154\n",
              "dtype: float64"
            ]
          },
          "metadata": {},
          "execution_count": 40
        }
      ]
    },
    {
      "cell_type": "code",
      "source": [
        "str_vol = str(round(annual_volatility, 4)*100)\n",
        "\n",
        "fig, ax = plt.subplots()\n",
        "log_return.hist(ax=ax, bins=50, alpha=0.6)\n",
        "plt.show()"
      ],
      "metadata": {
        "colab": {
          "base_uri": "https://localhost:8080/",
          "height": 335
        },
        "id": "WKgvlWfgxW0X",
        "outputId": "84be071b-6de0-4f3a-e0ed-04c6989d3f75"
      },
      "execution_count": 41,
      "outputs": [
        {
          "output_type": "stream",
          "name": "stderr",
          "text": [
            "/usr/local/lib/python3.7/dist-packages/ipykernel_launcher.py:4: UserWarning: To output multiple subplots, the figure containing the passed axes is being cleared\n",
            "  after removing the cwd from sys.path.\n"
          ]
        },
        {
          "output_type": "display_data",
          "data": {
            "image/png": "[encoded data removed]",
            "text/plain": [
              "<Figure size 432x288 with 4 Axes>"
            ]
          },
          "metadata": {
            "needs_background": "light"
          }
        }
      ]
    },
    {
      "cell_type": "code",
      "source": [
        "expected_return = np.sum(log_return.mean() * rebalance * 252)\n",
        "expected_return"
      ],
      "metadata": {
        "colab": {
          "base_uri": "https://localhost:8080/"
        },
        "id": "CkVo0yCcxW3O",
        "outputId": "7188164d-22e9-449f-a41a-6d666b69d7bd"
      },
      "execution_count": 42,
      "outputs": [
        {
          "output_type": "execute_result",
          "data": {
            "text/plain": [
              "0.14431083740392758"
            ]
          },
          "metadata": {},
          "execution_count": 42
        }
      ]
    },
    {
      "cell_type": "markdown",
      "source": [
        "In this project, we will consider that the risk free rate is equal to 1%"
      ],
      "metadata": {
        "id": "anxvbDSf-JdT"
      }
    },
    {
      "cell_type": "code",
      "source": [
        "rf_rate = 0.01\n",
        "sharpe_ratio = (expected_return - rf_rate)/annual_volatility\n",
        "sharpe_ratio"
      ],
      "metadata": {
        "colab": {
          "base_uri": "https://localhost:8080/"
        },
        "id": "7QrSYYcNxW5x",
        "outputId": "5b3dfd03-1ee0-49fc-9a2c-cded1b1670d8"
      },
      "execution_count": 43,
      "outputs": [
        {
          "output_type": "execute_result",
          "data": {
            "text/plain": [
              "GOOGL    0.377267\n",
              "UNH      0.668136\n",
              "MS       0.469365\n",
              "dtype: float64"
            ]
          },
          "metadata": {},
          "execution_count": 43
        }
      ]
    },
    {
      "cell_type": "markdown",
      "source": [
        "##Monte Carlo Simulation"
      ],
      "metadata": {
        "id": "ciz4VDCbQJYm"
      }
    },
    {
      "cell_type": "code",
      "source": [
        "number_stocks = 3\n",
        "num_simulations = 1000\n",
        "\n",
        "#preparing the numpy zeros array for the simulation\n",
        "all_weights = np.zeros((num_simulations, number_stocks))\n",
        "\n",
        "return_array = np.zeros(num_simulations)\n",
        "\n",
        "volatility_array = np.zeros(num_simulations)\n",
        "\n",
        "sharpe_array = np.zeros(num_simulations)\n",
        "\n",
        "for x in range(num_simulations):\n",
        "  weights = np.array(np.random.random(number_stocks))\n",
        "  weights = weights / np.sum(weights)\n",
        "\n",
        "  all_weights[x, :] = weights\n",
        "\n",
        "  return_array[x] = np.sum(log_return.mean() * weights * 252)\n",
        "\n",
        "  volatility_array[x] = np.sqrt(np.dot(weights.T, np.dot(log_return.cov() * 252, weights)))\n",
        "\n",
        "  sharpe_array[x]=(return_array[x] - rf_rate)/volatility_array[x]\n",
        "\n",
        "\n",
        "\n",
        "simulation = [return_array, volatility_array, sharpe_array, all_weights]\n",
        "\n",
        "df = pd.DataFrame(data=simulation).T\n",
        "\n",
        "df.columns = [\"Return\", \"Volatility\", \"Sharpe Ratio\", \"Weights\"]\n",
        "\n",
        "\n",
        "print('')\n",
        "print('=' * 80)\n",
        "print('MONTE CARLO SIMULATIONS:')\n",
        "print('=' * 80)\n",
        "print(df.head())\n",
        "print('=' * 80)\n",
        "\n",
        "\n"
      ],
      "metadata": {
        "colab": {
          "base_uri": "https://localhost:8080/"
        },
        "id": "7fSSbKMcxW7_",
        "outputId": "3b7f7fa6-52c8-41ca-900c-160f5eee7f54"
      },
      "execution_count": 44,
      "outputs": [
        {
          "output_type": "stream",
          "name": "stdout",
          "text": [
            "\n",
            "================================================================================\n",
            "MONTE CARLO SIMULATIONS:\n",
            "================================================================================\n",
            "     Return  ...                                            Weights\n",
            "0  0.136191  ...  [0.5277909354073879, 0.04979298112108261, 0.42...\n",
            "1  0.162088  ...  [0.35057175285733005, 0.14801913834734462, 0.5...\n",
            "2  0.158529  ...  [0.4908809905998571, 0.4432442517798383, 0.065...\n",
            "3  0.199493  ...  [0.11256791337809414, 0.33775644685704775, 0.5...\n",
            "4  0.177561  ...  [0.30625569296017147, 0.3706395527457373, 0.32...\n",
            "\n",
            "[5 rows x 4 columns]\n",
            "================================================================================\n"
          ]
        }
      ]
    },
    {
      "cell_type": "code",
      "source": [
        "#Now we'll take the simulation with the best risk/reward\n",
        "\n",
        "df['Sharpe Ratio'] = pd.to_numeric(df['Sharpe Ratio'])\n",
        "max_sharpe_ratio = df.loc[df['Sharpe Ratio'].idxmax()]\n",
        "\n",
        "#Now we'll take the simulation with the minimum of volatility (more conservative)\n",
        "df['Volatility'] = pd.to_numeric(df['Volatility'])\n",
        "min_volatility = df.loc[df['Volatility'].idxmin()]\n",
        "\n",
        "\n",
        "\n",
        "print('') \n",
        "print('=' * 80) \n",
        "print('MAX SHARPE RATIO:') \n",
        "print('-' * 80) \n",
        "print(max_sharpe_ratio) \n",
        "print('-' * 80)\n",
        "\n",
        "\n",
        "print('') \n",
        "print('=' * 80) \n",
        "print('MIN VOLATILITY:') \n",
        "print('-' * 80) \n",
        "print(min_volatility) \n",
        "print('-' * 80)"
      ],
      "metadata": {
        "id": "EJH9MOQpHgrW",
        "colab": {
          "base_uri": "https://localhost:8080/"
        },
        "outputId": "7906f83d-1ef9-450d-941c-1f32eed894a8"
      },
      "execution_count": 45,
      "outputs": [
        {
          "output_type": "stream",
          "name": "stdout",
          "text": [
            "\n",
            "================================================================================\n",
            "MAX SHARPE RATIO:\n",
            "--------------------------------------------------------------------------------\n",
            "Return                                                   0.233568\n",
            "Volatility                                               0.187961\n",
            "Sharpe Ratio                                              1.18944\n",
            "Weights         [0.00839030925294224, 0.8104841270449282, 0.18...\n",
            "Name: 31, dtype: object\n",
            "--------------------------------------------------------------------------------\n",
            "\n",
            "================================================================================\n",
            "MIN VOLATILITY:\n",
            "--------------------------------------------------------------------------------\n",
            "Return                                                   0.205539\n",
            "Volatility                                               0.179068\n",
            "Sharpe Ratio                                              1.09198\n",
            "Weights         [0.17266648967007658, 0.6308436230148545, 0.19...\n",
            "Name: 237, dtype: object\n",
            "--------------------------------------------------------------------------------\n"
          ]
        }
      ]
    },
    {
      "cell_type": "markdown",
      "source": [
        "Monte Carlo simulation is a great tool but it can problematic if we want to observe more simulations with a bigger dataset."
      ],
      "metadata": {
        "id": "cNLg18-d9c4b"
      }
    },
    {
      "cell_type": "markdown",
      "source": [
        "#Efficiency frontier line of the portfolio"
      ],
      "metadata": {
        "id": "BZ2ozhkj9hqz"
      }
    },
    {
      "cell_type": "code",
      "source": [
        "plt.scatter(\n",
        "    x=df['Volatility'],\n",
        "    y=df['Return'],\n",
        "    c=df['Sharpe Ratio'])\n",
        "\n",
        "plt.title(\"efficiency frontier line of the portfolio\")\n",
        "plt.colorbar(label=\"Sharpe Ratio\")\n",
        "plt.xlabel('Standard Deviation')\n",
        "plt.ylabel('Returns')\n",
        "\n",
        "\n",
        "plt.scatter(\n",
        "    max_sharpe_ratio[1],\n",
        "    max_sharpe_ratio[0],\n",
        "    color='r',\n",
        "    s=600)\n",
        "\n",
        "\n",
        "plt.scatter(\n",
        "    min_volatility[1],\n",
        "    min_volatility[0],\n",
        "    color='b',\n",
        "    s=600)\n",
        "\n",
        "\n",
        "plt.show()"
      ],
      "metadata": {
        "id": "Xf9i609CHg1G",
        "colab": {
          "base_uri": "https://localhost:8080/",
          "height": 295
        },
        "outputId": "3cfb0a1c-6616-44f2-982a-352a81587d29"
      },
      "execution_count": 46,
      "outputs": [
        {
          "output_type": "display_data",
          "data": {
            "image/png": "[encoded data removed]",
            "text/plain": [
              "<Figure size 432x288 with 2 Axes>"
            ]
          },
          "metadata": {
            "needs_background": "light"
          }
        }
      ]
    },
    {
      "cell_type": "markdown",
      "source": [
        "This graph illustrates very well the relationship between risk and return. the blue dot represents the portfolio with the minimum volatility and red the one with the best Sharpe Ratio."
      ],
      "metadata": {
        "id": "84eSs8yv-xSD"
      }
    },
    {
      "cell_type": "markdown",
      "source": [
        "#Benchmark"
      ],
      "metadata": {
        "id": "PWKnBafy9oQX"
      }
    },
    {
      "cell_type": "markdown",
      "source": [
        "In order to assess their performance, portfolio managers compare their performance with indices such as the S&P500 in the United States or the TSX in Canada"
      ],
      "metadata": {
        "id": "aiU7jE-e9u7W"
      }
    },
    {
      "cell_type": "code",
      "source": [
        "data = yf.download(\"SPY ^GSPTSE\", start=\"2012-01-01\", end=\"2018-01-01\")\n",
        "data = data['Close']\n",
        "data.head()"
      ],
      "metadata": {
        "colab": {
          "base_uri": "https://localhost:8080/",
          "height": 252
        },
        "id": "sNO6lIAWuGWn",
        "outputId": "3f6af193-8b28-4039-d922-9e16bd8c4422"
      },
      "execution_count": 46,
      "outputs": [
        {
          "output_type": "stream",
          "name": "stdout",
          "text": [
            "[*********************100%***********************]  2 of 2 completed\n"
          ]
        },
        {
          "output_type": "execute_result",
          "data": {
            "text/html": [
              "\n",
              "  <div id=\"df-b1754c7b-eb2a-404e-b8cc-dad83a708632\">\n",
              "    <div class=\"colab-df-container\">\n",
              "      <div>\n",
              "<style scoped>\n",
              "    .dataframe tbody tr th:only-of-type {\n",
              "        vertical-align: middle;\n",
              "    }\n",
              "\n",
              "    .dataframe tbody tr th {\n",
              "        vertical-align: top;\n",
              "    }\n",
              "\n",
              "    .dataframe thead th {\n",
              "        text-align: right;\n",
              "    }\n",
              "</style>\n",
              "<table border=\"1\" class=\"dataframe\">\n",
              "  <thead>\n",
              "    <tr style=\"text-align: right;\">\n",
              "      <th></th>\n",
              "      <th>SPY</th>\n",
              "      <th>^GSPTSE</th>\n",
              "    </tr>\n",
              "    <tr>\n",
              "      <th>Date</th>\n",
              "      <th></th>\n",
              "      <th></th>\n",
              "    </tr>\n",
              "  </thead>\n",
              "  <tbody>\n",
              "    <tr>\n",
              "      <th>2012-01-03</th>\n",
              "      <td>127.500000</td>\n",
              "      <td>12208.400391</td>\n",
              "    </tr>\n",
              "    <tr>\n",
              "      <th>2012-01-04</th>\n",
              "      <td>127.699997</td>\n",
              "      <td>12226.500000</td>\n",
              "    </tr>\n",
              "    <tr>\n",
              "      <th>2012-01-05</th>\n",
              "      <td>128.039993</td>\n",
              "      <td>12237.400391</td>\n",
              "    </tr>\n",
              "    <tr>\n",
              "      <th>2012-01-06</th>\n",
              "      <td>127.709999</td>\n",
              "      <td>12188.599609</td>\n",
              "    </tr>\n",
              "    <tr>\n",
              "      <th>2012-01-09</th>\n",
              "      <td>128.020004</td>\n",
              "      <td>12196.700195</td>\n",
              "    </tr>\n",
              "  </tbody>\n",
              "</table>\n",
              "</div>\n",
              "      <button class=\"colab-df-convert\" onclick=\"convertToInteractive('df-b1754c7b-eb2a-404e-b8cc-dad83a708632')\"\n",
              "              title=\"Convert this dataframe to an interactive table.\"\n",
              "              style=\"display:none;\">\n",
              "        \n",
              "  <svg xmlns=\"http://www.w3.org/2000/svg\" height=\"24px\"viewBox=\"0 0 24 24\"\n",
              "       width=\"24px\">\n",
              "    <path d=\"M0 0h24v24H0V0z\" fill=\"none\"/>\n",
              "    <path d=\"M18.56 5.44l.94 2.06.94-2.06 2.06-.94-2.06-.94-.94-2.06-.94 2.06-2.06.94zm-11 1L8.5 8.5l.94-2.06 2.06-.94-2.06-.94L8.5 2.5l-.94 2.06-2.06.94zm10 10l.94 2.06.94-2.06 2.06-.94-2.06-.94-.94-2.06-.94 2.06-2.06.94z\"/><path d=\"M17.41 7.96l-1.37-1.37c-.4-.4-.92-.59-1.43-.59-.52 0-1.04.2-1.43.59L10.3 9.45l-7.72 7.72c-.78.78-.78 2.05 0 2.83L4 21.41c.39.39.9.59 1.41.59.51 0 1.02-.2 1.41-.59l7.78-7.78 2.81-2.81c.8-.78.8-2.07 0-2.86zM5.41 20L4 18.59l7.72-7.72 1.47 1.35L5.41 20z\"/>\n",
              "  </svg>\n",
              "      </button>\n",
              "      \n",
              "  <style>\n",
              "    .colab-df-container {\n",
              "      display:flex;\n",
              "      flex-wrap:wrap;\n",
              "      gap: 12px;\n",
              "    }\n",
              "\n",
              "    .colab-df-convert {\n",
              "      background-color: #E8F0FE;\n",
              "      border: none;\n",
              "      border-radius: 50%;\n",
              "      cursor: pointer;\n",
              "      display: none;\n",
              "      fill: #1967D2;\n",
              "      height: 32px;\n",
              "      padding: 0 0 0 0;\n",
              "      width: 32px;\n",
              "    }\n",
              "\n",
              "    .colab-df-convert:hover {\n",
              "      background-color: #E2EBFA;\n",
              "      box-shadow: 0px 1px 2px rgba(60, 64, 67, 0.3), 0px 1px 3px 1px rgba(60, 64, 67, 0.15);\n",
              "      fill: #174EA6;\n",
              "    }\n",
              "\n",
              "    [theme=dark] .colab-df-convert {\n",
              "      background-color: #3B4455;\n",
              "      fill: #D2E3FC;\n",
              "    }\n",
              "\n",
              "    [theme=dark] .colab-df-convert:hover {\n",
              "      background-color: #434B5C;\n",
              "      box-shadow: 0px 1px 3px 1px rgba(0, 0, 0, 0.15);\n",
              "      filter: drop-shadow(0px 1px 2px rgba(0, 0, 0, 0.3));\n",
              "      fill: #FFFFFF;\n",
              "    }\n",
              "  </style>\n",
              "\n",
              "      <script>\n",
              "        const buttonEl =\n",
              "          document.querySelector('#df-b1754c7b-eb2a-404e-b8cc-dad83a708632 button.colab-df-convert');\n",
              "        buttonEl.style.display =\n",
              "          google.colab.kernel.accessAllowed ? 'block' : 'none';\n",
              "\n",
              "        async function convertToInteractive(key) {\n",
              "          const element = document.querySelector('#df-b1754c7b-eb2a-404e-b8cc-dad83a708632');\n",
              "          const dataTable =\n",
              "            await google.colab.kernel.invokeFunction('convertToInteractive',\n",
              "                                                     [key], {});\n",
              "          if (!dataTable) return;\n",
              "\n",
              "          const docLinkHtml = 'Like what you see? Visit the ' +\n",
              "            '<a target=\"_blank\" href=https://colab.research.google.com/notebooks/data_table.ipynb>data table notebook</a>'\n",
              "            + ' to learn more about interactive tables.';\n",
              "          element.innerHTML = '';\n",
              "          dataTable['output_type'] = 'display_data';\n",
              "          await google.colab.output.renderOutput(dataTable, element);\n",
              "          const docLink = document.createElement('div');\n",
              "          docLink.innerHTML = docLinkHtml;\n",
              "          element.appendChild(docLink);\n",
              "        }\n",
              "      </script>\n",
              "    </div>\n",
              "  </div>\n",
              "  "
            ],
            "text/plain": [
              "                   SPY       ^GSPTSE\n",
              "Date                                \n",
              "2012-01-03  127.500000  12208.400391\n",
              "2012-01-04  127.699997  12226.500000\n",
              "2012-01-05  128.039993  12237.400391\n",
              "2012-01-06  127.709999  12188.599609\n",
              "2012-01-09  128.020004  12196.700195"
            ]
          },
          "metadata": {},
          "execution_count": 46
        }
      ]
    },
    {
      "cell_type": "code",
      "source": [
        "data_final = pd.concat([result, data], axis=1, join=\"inner\")\n",
        "data_final.columns =['GOOGL', 'UNH', 'MS', 'SP500', 'TSX']\n",
        "data_final"
      ],
      "metadata": {
        "colab": {
          "base_uri": "https://localhost:8080/",
          "height": 450
        },
        "id": "aUaSEsHKqxN3",
        "outputId": "dc1e14de-0a51-424c-8dae-0072bc5c513a"
      },
      "execution_count": 54,
      "outputs": [
        {
          "output_type": "execute_result",
          "data": {
            "text/html": [
              "\n",
              "  <div id=\"df-c0746a1f-fd92-4398-97c2-f992d4e8d022\">\n",
              "    <div class=\"colab-df-container\">\n",
              "      <div>\n",
              "<style scoped>\n",
              "    .dataframe tbody tr th:only-of-type {\n",
              "        vertical-align: middle;\n",
              "    }\n",
              "\n",
              "    .dataframe tbody tr th {\n",
              "        vertical-align: top;\n",
              "    }\n",
              "\n",
              "    .dataframe thead th {\n",
              "        text-align: right;\n",
              "    }\n",
              "</style>\n",
              "<table border=\"1\" class=\"dataframe\">\n",
              "  <thead>\n",
              "    <tr style=\"text-align: right;\">\n",
              "      <th></th>\n",
              "      <th>GOOGL</th>\n",
              "      <th>UNH</th>\n",
              "      <th>MS</th>\n",
              "      <th>SP500</th>\n",
              "      <th>TSX</th>\n",
              "    </tr>\n",
              "    <tr>\n",
              "      <th>Date</th>\n",
              "      <th></th>\n",
              "      <th></th>\n",
              "      <th></th>\n",
              "      <th></th>\n",
              "      <th></th>\n",
              "    </tr>\n",
              "  </thead>\n",
              "  <tbody>\n",
              "    <tr>\n",
              "      <th>2012-01-03</th>\n",
              "      <td>665.41</td>\n",
              "      <td>51.49</td>\n",
              "      <td>16.08</td>\n",
              "      <td>127.500000</td>\n",
              "      <td>12208.400391</td>\n",
              "    </tr>\n",
              "    <tr>\n",
              "      <th>2012-01-04</th>\n",
              "      <td>668.28</td>\n",
              "      <td>52.24</td>\n",
              "      <td>15.94</td>\n",
              "      <td>127.699997</td>\n",
              "      <td>12226.500000</td>\n",
              "    </tr>\n",
              "    <tr>\n",
              "      <th>2012-01-05</th>\n",
              "      <td>659.01</td>\n",
              "      <td>52.59</td>\n",
              "      <td>16.28</td>\n",
              "      <td>128.039993</td>\n",
              "      <td>12237.400391</td>\n",
              "    </tr>\n",
              "    <tr>\n",
              "      <th>2012-01-06</th>\n",
              "      <td>650.02</td>\n",
              "      <td>52.78</td>\n",
              "      <td>15.90</td>\n",
              "      <td>127.709999</td>\n",
              "      <td>12188.599609</td>\n",
              "    </tr>\n",
              "    <tr>\n",
              "      <th>2012-01-09</th>\n",
              "      <td>622.46</td>\n",
              "      <td>52.72</td>\n",
              "      <td>16.20</td>\n",
              "      <td>128.020004</td>\n",
              "      <td>12196.700195</td>\n",
              "    </tr>\n",
              "    <tr>\n",
              "      <th>...</th>\n",
              "      <td>...</td>\n",
              "      <td>...</td>\n",
              "      <td>...</td>\n",
              "      <td>...</td>\n",
              "      <td>...</td>\n",
              "    </tr>\n",
              "    <tr>\n",
              "      <th>2017-12-22</th>\n",
              "      <td>1068.86</td>\n",
              "      <td>220.00</td>\n",
              "      <td>52.72</td>\n",
              "      <td>267.510010</td>\n",
              "      <td>16165.299805</td>\n",
              "    </tr>\n",
              "    <tr>\n",
              "      <th>2017-12-26</th>\n",
              "      <td>1065.85</td>\n",
              "      <td>219.60</td>\n",
              "      <td>52.47</td>\n",
              "      <td>267.190002</td>\n",
              "      <td>NaN</td>\n",
              "    </tr>\n",
              "    <tr>\n",
              "      <th>2017-12-27</th>\n",
              "      <td>1060.20</td>\n",
              "      <td>220.42</td>\n",
              "      <td>52.57</td>\n",
              "      <td>267.320007</td>\n",
              "      <td>16203.099609</td>\n",
              "    </tr>\n",
              "    <tr>\n",
              "      <th>2017-12-28</th>\n",
              "      <td>1055.95</td>\n",
              "      <td>222.77</td>\n",
              "      <td>52.65</td>\n",
              "      <td>267.869995</td>\n",
              "      <td>16222.000000</td>\n",
              "    </tr>\n",
              "    <tr>\n",
              "      <th>2017-12-29</th>\n",
              "      <td>1053.40</td>\n",
              "      <td>220.46</td>\n",
              "      <td>52.47</td>\n",
              "      <td>266.859985</td>\n",
              "      <td>16209.099609</td>\n",
              "    </tr>\n",
              "  </tbody>\n",
              "</table>\n",
              "<p>1508 rows × 5 columns</p>\n",
              "</div>\n",
              "      <button class=\"colab-df-convert\" onclick=\"convertToInteractive('df-c0746a1f-fd92-4398-97c2-f992d4e8d022')\"\n",
              "              title=\"Convert this dataframe to an interactive table.\"\n",
              "              style=\"display:none;\">\n",
              "        \n",
              "  <svg xmlns=\"http://www.w3.org/2000/svg\" height=\"24px\"viewBox=\"0 0 24 24\"\n",
              "       width=\"24px\">\n",
              "    <path d=\"M0 0h24v24H0V0z\" fill=\"none\"/>\n",
              "    <path d=\"M18.56 5.44l.94 2.06.94-2.06 2.06-.94-2.06-.94-.94-2.06-.94 2.06-2.06.94zm-11 1L8.5 8.5l.94-2.06 2.06-.94-2.06-.94L8.5 2.5l-.94 2.06-2.06.94zm10 10l.94 2.06.94-2.06 2.06-.94-2.06-.94-.94-2.06-.94 2.06-2.06.94z\"/><path d=\"M17.41 7.96l-1.37-1.37c-.4-.4-.92-.59-1.43-.59-.52 0-1.04.2-1.43.59L10.3 9.45l-7.72 7.72c-.78.78-.78 2.05 0 2.83L4 21.41c.39.39.9.59 1.41.59.51 0 1.02-.2 1.41-.59l7.78-7.78 2.81-2.81c.8-.78.8-2.07 0-2.86zM5.41 20L4 18.59l7.72-7.72 1.47 1.35L5.41 20z\"/>\n",
              "  </svg>\n",
              "      </button>\n",
              "      \n",
              "  <style>\n",
              "    .colab-df-container {\n",
              "      display:flex;\n",
              "      flex-wrap:wrap;\n",
              "      gap: 12px;\n",
              "    }\n",
              "\n",
              "    .colab-df-convert {\n",
              "      background-color: #E8F0FE;\n",
              "      border: none;\n",
              "      border-radius: 50%;\n",
              "      cursor: pointer;\n",
              "      display: none;\n",
              "      fill: #1967D2;\n",
              "      height: 32px;\n",
              "      padding: 0 0 0 0;\n",
              "      width: 32px;\n",
              "    }\n",
              "\n",
              "    .colab-df-convert:hover {\n",
              "      background-color: #E2EBFA;\n",
              "      box-shadow: 0px 1px 2px rgba(60, 64, 67, 0.3), 0px 1px 3px 1px rgba(60, 64, 67, 0.15);\n",
              "      fill: #174EA6;\n",
              "    }\n",
              "\n",
              "    [theme=dark] .colab-df-convert {\n",
              "      background-color: #3B4455;\n",
              "      fill: #D2E3FC;\n",
              "    }\n",
              "\n",
              "    [theme=dark] .colab-df-convert:hover {\n",
              "      background-color: #434B5C;\n",
              "      box-shadow: 0px 1px 3px 1px rgba(0, 0, 0, 0.15);\n",
              "      filter: drop-shadow(0px 1px 2px rgba(0, 0, 0, 0.3));\n",
              "      fill: #FFFFFF;\n",
              "    }\n",
              "  </style>\n",
              "\n",
              "      <script>\n",
              "        const buttonEl =\n",
              "          document.querySelector('#df-c0746a1f-fd92-4398-97c2-f992d4e8d022 button.colab-df-convert');\n",
              "        buttonEl.style.display =\n",
              "          google.colab.kernel.accessAllowed ? 'block' : 'none';\n",
              "\n",
              "        async function convertToInteractive(key) {\n",
              "          const element = document.querySelector('#df-c0746a1f-fd92-4398-97c2-f992d4e8d022');\n",
              "          const dataTable =\n",
              "            await google.colab.kernel.invokeFunction('convertToInteractive',\n",
              "                                                     [key], {});\n",
              "          if (!dataTable) return;\n",
              "\n",
              "          const docLinkHtml = 'Like what you see? Visit the ' +\n",
              "            '<a target=\"_blank\" href=https://colab.research.google.com/notebooks/data_table.ipynb>data table notebook</a>'\n",
              "            + ' to learn more about interactive tables.';\n",
              "          element.innerHTML = '';\n",
              "          dataTable['output_type'] = 'display_data';\n",
              "          await google.colab.output.renderOutput(dataTable, element);\n",
              "          const docLink = document.createElement('div');\n",
              "          docLink.innerHTML = docLinkHtml;\n",
              "          element.appendChild(docLink);\n",
              "        }\n",
              "      </script>\n",
              "    </div>\n",
              "  </div>\n",
              "  "
            ],
            "text/plain": [
              "              GOOGL     UNH     MS       SP500           TSX\n",
              "Date                                                        \n",
              "2012-01-03   665.41   51.49  16.08  127.500000  12208.400391\n",
              "2012-01-04   668.28   52.24  15.94  127.699997  12226.500000\n",
              "2012-01-05   659.01   52.59  16.28  128.039993  12237.400391\n",
              "2012-01-06   650.02   52.78  15.90  127.709999  12188.599609\n",
              "2012-01-09   622.46   52.72  16.20  128.020004  12196.700195\n",
              "...             ...     ...    ...         ...           ...\n",
              "2017-12-22  1068.86  220.00  52.72  267.510010  16165.299805\n",
              "2017-12-26  1065.85  219.60  52.47  267.190002           NaN\n",
              "2017-12-27  1060.20  220.42  52.57  267.320007  16203.099609\n",
              "2017-12-28  1055.95  222.77  52.65  267.869995  16222.000000\n",
              "2017-12-29  1053.40  220.46  52.47  266.859985  16209.099609\n",
              "\n",
              "[1508 rows x 5 columns]"
            ]
          },
          "metadata": {},
          "execution_count": 54
        }
      ]
    },
    {
      "cell_type": "code",
      "source": [
        "returns = data_final.apply(lambda x: x / x[0] * 100)\n",
        "returns.head()"
      ],
      "metadata": {
        "colab": {
          "base_uri": "https://localhost:8080/",
          "height": 235
        },
        "id": "sfatcr_JwRL5",
        "outputId": "cdfd1c5e-9c66-46bd-fd9f-db2bc568f52b"
      },
      "execution_count": 55,
      "outputs": [
        {
          "output_type": "execute_result",
          "data": {
            "text/html": [
              "\n",
              "  <div id=\"df-e83bec1b-731a-4bca-aeb7-50be9e65ece6\">\n",
              "    <div class=\"colab-df-container\">\n",
              "      <div>\n",
              "<style scoped>\n",
              "    .dataframe tbody tr th:only-of-type {\n",
              "        vertical-align: middle;\n",
              "    }\n",
              "\n",
              "    .dataframe tbody tr th {\n",
              "        vertical-align: top;\n",
              "    }\n",
              "\n",
              "    .dataframe thead th {\n",
              "        text-align: right;\n",
              "    }\n",
              "</style>\n",
              "<table border=\"1\" class=\"dataframe\">\n",
              "  <thead>\n",
              "    <tr style=\"text-align: right;\">\n",
              "      <th></th>\n",
              "      <th>GOOGL</th>\n",
              "      <th>UNH</th>\n",
              "      <th>MS</th>\n",
              "      <th>SP500</th>\n",
              "      <th>TSX</th>\n",
              "    </tr>\n",
              "    <tr>\n",
              "      <th>Date</th>\n",
              "      <th></th>\n",
              "      <th></th>\n",
              "      <th></th>\n",
              "      <th></th>\n",
              "      <th></th>\n",
              "    </tr>\n",
              "  </thead>\n",
              "  <tbody>\n",
              "    <tr>\n",
              "      <th>2012-01-03</th>\n",
              "      <td>100.000000</td>\n",
              "      <td>100.000000</td>\n",
              "      <td>100.000000</td>\n",
              "      <td>100.000000</td>\n",
              "      <td>100.000000</td>\n",
              "    </tr>\n",
              "    <tr>\n",
              "      <th>2012-01-04</th>\n",
              "      <td>100.431313</td>\n",
              "      <td>101.456594</td>\n",
              "      <td>99.129353</td>\n",
              "      <td>100.156860</td>\n",
              "      <td>100.148255</td>\n",
              "    </tr>\n",
              "    <tr>\n",
              "      <th>2012-01-05</th>\n",
              "      <td>99.038187</td>\n",
              "      <td>102.136337</td>\n",
              "      <td>101.243781</td>\n",
              "      <td>100.423524</td>\n",
              "      <td>100.237541</td>\n",
              "    </tr>\n",
              "    <tr>\n",
              "      <th>2012-01-06</th>\n",
              "      <td>97.687140</td>\n",
              "      <td>102.505341</td>\n",
              "      <td>98.880597</td>\n",
              "      <td>100.164705</td>\n",
              "      <td>99.837810</td>\n",
              "    </tr>\n",
              "    <tr>\n",
              "      <th>2012-01-09</th>\n",
              "      <td>93.545333</td>\n",
              "      <td>102.388813</td>\n",
              "      <td>100.746269</td>\n",
              "      <td>100.407846</td>\n",
              "      <td>99.904163</td>\n",
              "    </tr>\n",
              "  </tbody>\n",
              "</table>\n",
              "</div>\n",
              "      <button class=\"colab-df-convert\" onclick=\"convertToInteractive('df-e83bec1b-731a-4bca-aeb7-50be9e65ece6')\"\n",
              "              title=\"Convert this dataframe to an interactive table.\"\n",
              "              style=\"display:none;\">\n",
              "        \n",
              "  <svg xmlns=\"http://www.w3.org/2000/svg\" height=\"24px\"viewBox=\"0 0 24 24\"\n",
              "       width=\"24px\">\n",
              "    <path d=\"M0 0h24v24H0V0z\" fill=\"none\"/>\n",
              "    <path d=\"M18.56 5.44l.94 2.06.94-2.06 2.06-.94-2.06-.94-.94-2.06-.94 2.06-2.06.94zm-11 1L8.5 8.5l.94-2.06 2.06-.94-2.06-.94L8.5 2.5l-.94 2.06-2.06.94zm10 10l.94 2.06.94-2.06 2.06-.94-2.06-.94-.94-2.06-.94 2.06-2.06.94z\"/><path d=\"M17.41 7.96l-1.37-1.37c-.4-.4-.92-.59-1.43-.59-.52 0-1.04.2-1.43.59L10.3 9.45l-7.72 7.72c-.78.78-.78 2.05 0 2.83L4 21.41c.39.39.9.59 1.41.59.51 0 1.02-.2 1.41-.59l7.78-7.78 2.81-2.81c.8-.78.8-2.07 0-2.86zM5.41 20L4 18.59l7.72-7.72 1.47 1.35L5.41 20z\"/>\n",
              "  </svg>\n",
              "      </button>\n",
              "      \n",
              "  <style>\n",
              "    .colab-df-container {\n",
              "      display:flex;\n",
              "      flex-wrap:wrap;\n",
              "      gap: 12px;\n",
              "    }\n",
              "\n",
              "    .colab-df-convert {\n",
              "      background-color: #E8F0FE;\n",
              "      border: none;\n",
              "      border-radius: 50%;\n",
              "      cursor: pointer;\n",
              "      display: none;\n",
              "      fill: #1967D2;\n",
              "      height: 32px;\n",
              "      padding: 0 0 0 0;\n",
              "      width: 32px;\n",
              "    }\n",
              "\n",
              "    .colab-df-convert:hover {\n",
              "      background-color: #E2EBFA;\n",
              "      box-shadow: 0px 1px 2px rgba(60, 64, 67, 0.3), 0px 1px 3px 1px rgba(60, 64, 67, 0.15);\n",
              "      fill: #174EA6;\n",
              "    }\n",
              "\n",
              "    [theme=dark] .colab-df-convert {\n",
              "      background-color: #3B4455;\n",
              "      fill: #D2E3FC;\n",
              "    }\n",
              "\n",
              "    [theme=dark] .colab-df-convert:hover {\n",
              "      background-color: #434B5C;\n",
              "      box-shadow: 0px 1px 3px 1px rgba(0, 0, 0, 0.15);\n",
              "      filter: drop-shadow(0px 1px 2px rgba(0, 0, 0, 0.3));\n",
              "      fill: #FFFFFF;\n",
              "    }\n",
              "  </style>\n",
              "\n",
              "      <script>\n",
              "        const buttonEl =\n",
              "          document.querySelector('#df-e83bec1b-731a-4bca-aeb7-50be9e65ece6 button.colab-df-convert');\n",
              "        buttonEl.style.display =\n",
              "          google.colab.kernel.accessAllowed ? 'block' : 'none';\n",
              "\n",
              "        async function convertToInteractive(key) {\n",
              "          const element = document.querySelector('#df-e83bec1b-731a-4bca-aeb7-50be9e65ece6');\n",
              "          const dataTable =\n",
              "            await google.colab.kernel.invokeFunction('convertToInteractive',\n",
              "                                                     [key], {});\n",
              "          if (!dataTable) return;\n",
              "\n",
              "          const docLinkHtml = 'Like what you see? Visit the ' +\n",
              "            '<a target=\"_blank\" href=https://colab.research.google.com/notebooks/data_table.ipynb>data table notebook</a>'\n",
              "            + ' to learn more about interactive tables.';\n",
              "          element.innerHTML = '';\n",
              "          dataTable['output_type'] = 'display_data';\n",
              "          await google.colab.output.renderOutput(dataTable, element);\n",
              "          const docLink = document.createElement('div');\n",
              "          docLink.innerHTML = docLinkHtml;\n",
              "          element.appendChild(docLink);\n",
              "        }\n",
              "      </script>\n",
              "    </div>\n",
              "  </div>\n",
              "  "
            ],
            "text/plain": [
              "                 GOOGL         UNH          MS       SP500         TSX\n",
              "Date                                                                  \n",
              "2012-01-03  100.000000  100.000000  100.000000  100.000000  100.000000\n",
              "2012-01-04  100.431313  101.456594   99.129353  100.156860  100.148255\n",
              "2012-01-05   99.038187  102.136337  101.243781  100.423524  100.237541\n",
              "2012-01-06   97.687140  102.505341   98.880597  100.164705   99.837810\n",
              "2012-01-09   93.545333  102.388813  100.746269  100.407846   99.904163"
            ]
          },
          "metadata": {},
          "execution_count": 55
        }
      ]
    },
    {
      "cell_type": "code",
      "source": [
        "returns.plot(figsize=(10, 5))"
      ],
      "metadata": {
        "colab": {
          "base_uri": "https://localhost:8080/",
          "height": 335
        },
        "id": "pKeg-ho1x-gl",
        "outputId": "a4d31440-968e-4030-823a-a6c319783d10"
      },
      "execution_count": 56,
      "outputs": [
        {
          "output_type": "execute_result",
          "data": {
            "text/plain": [
              "<matplotlib.axes._subplots.AxesSubplot at 0x7f7742bfd750>"
            ]
          },
          "metadata": {},
          "execution_count": 56
        },
        {
          "output_type": "display_data",
          "data": {
            "image/png": "[encoded data removed]",
            "text/plain": [
              "<Figure size 720x360 with 1 Axes>"
            ]
          },
          "metadata": {
            "needs_background": "light"
          }
        }
      ]
    }
  ]
}