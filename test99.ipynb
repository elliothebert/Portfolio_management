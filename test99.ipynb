1. Data analysis

import pandas as pd
import numpy as np
import matplotlib.pyplot as plt
import seaborn as sns
import os

pwd

pd.set_option('display.max_columns', None)
df = pd.read_csv('/Users/elliothebert/Documents/pythondemon/train.csv')
df.head(10)

print(df.shape)

df.dtypes.value_counts()

We need to separate numerical and categorical features

categorical_features=[feature for feature in df.columns if df[feature].dtypes=='O']
categorical_features

for feature in categorical_features:
    data=df.copy()
    data.groupby(feature)['SalePrice'].median().plot.bar()
    plt.xlabel(feature)
    plt.ylabel('SalePrice')
    plt.title(feature)
    plt.show()

for feature in categorical_features:
    print('The feature is {} and number of categories are {}'.format(feature,len(data[feature].unique())))

numerical_features = [feature for feature in df.columns if df[feature].dtypes != 'O']

print('Number of numerical variables: ', len(numerical_features))

Date Variables 

year_feature = [feature for feature in df if "Year" in feature or "Yr" in feature]
   
year_feature

for feature in year_feature:
    print(feature, df[feature].unique())

df.groupby('YrSold')['SalePrice'].median().plot()
plt.xlabel('Year Sold')
plt.ylabel('Median House Price')
plt.title('House Price according to Year Sold')

this plot shows a problem in the dataset because the price of the houses in falling over this time period. We will try to handle this during the feature Engeneering part.

for feature in year_feature:
    if feature!='YrSold':
        data=df.copy()
        data[feature]=data['YrSold']-data[feature]

        plt.scatter(data[feature],data['SalePrice'])
        plt.xlabel(feature)
        plt.ylabel('SalePrice')
        plt.show()

discrete_feature = [feature for feature in numerical_features if len(df[feature].unique())<25 and feature not in year_feature+['Id']]
print('Discrete Variable Count: {}'.format(len(discrete_feature)))

discrete_feature

for feature in discrete_feature:
    data=df.copy()
    data.groupby(feature)['SalePrice'].median().plot.bar()
    plt.xlabel(feature)
    plt.ylabel('SalePrice')
    plt.title(feature)
    plt.show()



continuons_feature = [feature for feature in numerical_features if feature not in discrete_feature+year_feature+['Id']]
print('Continuous feature Count {}'.format(len(continuons_feature)))


continuons_feature

for feature in continuons_feature:
    df3=df.copy()
    df3[feature].hist(bins=25)
    plt.xlabel(feature)
    plt.ylabel('Count')
    plt.title(feature)
    plt.show()

According to the graphs, logarithmic transformation for the sale price looks appropriate.

for feature in continuons_feature:
    df4=df.copy()
    if 0 in df[feature].unique():
        pass
    else:
        df[feature]=np.log(df[feature])
        plt.scatter(df[feature],df['SalePrice'])
        plt.xlabel('feature')
        plt.ylabel('SalePrice')
        plt.title(feature)
        plt.show()

Handling Outliers

for feature in continuons_feature:
    if 0 in df[feature].unique():
        pass
    else:
        df[feature]=np.log(df[feature])
        df.boxplot(column=feature)
        plt.ylabel(feature)
        plt.xlabel(feature)
        plt.title(feature)
        plt.show()
