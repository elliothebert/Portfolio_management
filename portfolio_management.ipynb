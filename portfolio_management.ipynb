{
  "nbformat": 4,
  "nbformat_minor": 0,
  "metadata": {
    "colab": {
      "name": "portfolio management.ipynb",
      "provenance": [],
      "collapsed_sections": [],
      "authorship_tag": "ABX9TyM2vX3YWoz6A9FSTUog4zOI",
      "include_colab_link": true
    },
    "kernelspec": {
      "name": "python3",
      "display_name": "Python 3"
    },
    "language_info": {
      "name": "python"
    }
  },
  "cells": [
    {
      "cell_type": "markdown",
      "metadata": {
        "id": "view-in-github",
        "colab_type": "text"
      },
      "source": [
        "<a href=\"https://colab.research.google.com/github/elliothebert/code/blob/main/portfolio_management.ipynb\" target=\"_parent\"><img src=\"https://colab.research.google.com/assets/colab-badge.svg\" alt=\"Open In Colab\"/></a>"
      ]
    },
    {
      "cell_type": "code",
      "execution_count": null,
      "metadata": {
        "id": "JPSHsoFEGfSf"
      },
      "outputs": [],
      "source": [
        "import pandas as pd\n",
        "import numpy as np\n",
        "import matplotlib.pyplot as plt\n",
        "import seaborn as sns"
      ]
    },
    {
      "cell_type": "code",
      "source": [
        "!pip install quandl\n",
        "import quandl"
      ],
      "metadata": {
        "id": "5yychANrHV0C",
        "colab": {
          "base_uri": "https://localhost:8080/"
        },
        "outputId": "e3099aed-60e8-4b0b-be18-7f22518077bd"
      },
      "execution_count": null,
      "outputs": [
        {
          "output_type": "stream",
          "name": "stdout",
          "text": [
            "Collecting quandl\n",
            "  Downloading Quandl-3.7.0-py2.py3-none-any.whl (26 kB)\n",
            "Requirement already satisfied: pandas>=0.14 in /usr/local/lib/python3.7/dist-packages (from quandl) (1.1.5)\n",
            "Collecting inflection>=0.3.1\n",
            "  Downloading inflection-0.5.1-py2.py3-none-any.whl (9.5 kB)\n",
            "Requirement already satisfied: requests>=2.7.0 in /usr/local/lib/python3.7/dist-packages (from quandl) (2.23.0)\n",
            "Requirement already satisfied: more-itertools in /usr/local/lib/python3.7/dist-packages (from quandl) (8.12.0)\n",
            "Requirement already satisfied: numpy>=1.8 in /usr/local/lib/python3.7/dist-packages (from quandl) (1.19.5)\n",
            "Requirement already satisfied: python-dateutil in /usr/local/lib/python3.7/dist-packages (from quandl) (2.8.2)\n",
            "Requirement already satisfied: six in /usr/local/lib/python3.7/dist-packages (from quandl) (1.15.0)\n",
            "Requirement already satisfied: pytz>=2017.2 in /usr/local/lib/python3.7/dist-packages (from pandas>=0.14->quandl) (2018.9)\n",
            "Requirement already satisfied: urllib3!=1.25.0,!=1.25.1,<1.26,>=1.21.1 in /usr/local/lib/python3.7/dist-packages (from requests>=2.7.0->quandl) (1.24.3)\n",
            "Requirement already satisfied: chardet<4,>=3.0.2 in /usr/local/lib/python3.7/dist-packages (from requests>=2.7.0->quandl) (3.0.4)\n",
            "Requirement already satisfied: certifi>=2017.4.17 in /usr/local/lib/python3.7/dist-packages (from requests>=2.7.0->quandl) (2021.10.8)\n",
            "Requirement already satisfied: idna<3,>=2.5 in /usr/local/lib/python3.7/dist-packages (from requests>=2.7.0->quandl) (2.10)\n",
            "Installing collected packages: inflection, quandl\n",
            "Successfully installed inflection-0.5.1 quandl-3.7.0\n"
          ]
        }
      ]
    },
    {
      "cell_type": "code",
      "source": [
        "quandl.ApiConfig.api_key = \"ywek9zq_ayRPip4z15N4\""
      ],
      "metadata": {
        "id": "5w12YMeGHV2k"
      },
      "execution_count": null,
      "outputs": []
    },
    {
      "cell_type": "code",
      "source": [
        "#Google - Stock Price\n",
        "start = pd.to_datetime('2012-01-01')\n",
        "end = pd.to_datetime('2018-01-01')\n",
        "data = quandl.get('WIKI/GOOGL', start_date = start, end_date=end)\n",
        "data.head(10)"
      ],
      "metadata": {
        "id": "Y8905jMPHVnP",
        "colab": {
          "base_uri": "https://localhost:8080/",
          "height": 390
        },
        "outputId": "f7173d61-9c4f-41df-80e4-5170578d3501"
      },
      "execution_count": null,
      "outputs": [
        {
          "output_type": "execute_result",
          "data": {
            "text/html": [
              "\n",
              "  <div id=\"df-5b1b4593-ba60-405a-b27f-dbc9ead6f2b0\">\n",
              "    <div class=\"colab-df-container\">\n",
              "      <div>\n",
              "<style scoped>\n",
              "    .dataframe tbody tr th:only-of-type {\n",
              "        vertical-align: middle;\n",
              "    }\n",
              "\n",
              "    .dataframe tbody tr th {\n",
              "        vertical-align: top;\n",
              "    }\n",
              "\n",
              "    .dataframe thead th {\n",
              "        text-align: right;\n",
              "    }\n",
              "</style>\n",
              "<table border=\"1\" class=\"dataframe\">\n",
              "  <thead>\n",
              "    <tr style=\"text-align: right;\">\n",
              "      <th></th>\n",
              "      <th>Open</th>\n",
              "      <th>High</th>\n",
              "      <th>Low</th>\n",
              "      <th>Close</th>\n",
              "      <th>Volume</th>\n",
              "      <th>Ex-Dividend</th>\n",
              "      <th>Split Ratio</th>\n",
              "      <th>Adj. Open</th>\n",
              "      <th>Adj. High</th>\n",
              "      <th>Adj. Low</th>\n",
              "      <th>Adj. Close</th>\n",
              "      <th>Adj. Volume</th>\n",
              "    </tr>\n",
              "    <tr>\n",
              "      <th>Date</th>\n",
              "      <th></th>\n",
              "      <th></th>\n",
              "      <th></th>\n",
              "      <th></th>\n",
              "      <th></th>\n",
              "      <th></th>\n",
              "      <th></th>\n",
              "      <th></th>\n",
              "      <th></th>\n",
              "      <th></th>\n",
              "      <th></th>\n",
              "      <th></th>\n",
              "    </tr>\n",
              "  </thead>\n",
              "  <tbody>\n",
              "    <tr>\n",
              "      <th>2012-01-03</th>\n",
              "      <td>652.94</td>\n",
              "      <td>668.15</td>\n",
              "      <td>652.370</td>\n",
              "      <td>665.41</td>\n",
              "      <td>7345600.0</td>\n",
              "      <td>0.0</td>\n",
              "      <td>1.0</td>\n",
              "      <td>327.480902</td>\n",
              "      <td>335.109451</td>\n",
              "      <td>327.195020</td>\n",
              "      <td>333.735209</td>\n",
              "      <td>7345600.0</td>\n",
              "    </tr>\n",
              "    <tr>\n",
              "      <th>2012-01-04</th>\n",
              "      <td>665.03</td>\n",
              "      <td>670.25</td>\n",
              "      <td>660.620</td>\n",
              "      <td>668.28</td>\n",
              "      <td>5722200.0</td>\n",
              "      <td>0.0</td>\n",
              "      <td>1.0</td>\n",
              "      <td>333.544620</td>\n",
              "      <td>336.162702</td>\n",
              "      <td>331.332793</td>\n",
              "      <td>335.174652</td>\n",
              "      <td>5722200.0</td>\n",
              "    </tr>\n",
              "    <tr>\n",
              "      <th>2012-01-05</th>\n",
              "      <td>662.13</td>\n",
              "      <td>663.97</td>\n",
              "      <td>656.230</td>\n",
              "      <td>659.01</td>\n",
              "      <td>6559200.0</td>\n",
              "      <td>0.0</td>\n",
              "      <td>1.0</td>\n",
              "      <td>332.090130</td>\n",
              "      <td>333.012979</td>\n",
              "      <td>329.130996</td>\n",
              "      <td>330.525300</td>\n",
              "      <td>6559200.0</td>\n",
              "    </tr>\n",
              "    <tr>\n",
              "      <th>2012-01-06</th>\n",
              "      <td>659.15</td>\n",
              "      <td>660.00</td>\n",
              "      <td>649.790</td>\n",
              "      <td>650.02</td>\n",
              "      <td>5380400.0</td>\n",
              "      <td>0.0</td>\n",
              "      <td>1.0</td>\n",
              "      <td>330.595517</td>\n",
              "      <td>331.021833</td>\n",
              "      <td>325.901025</td>\n",
              "      <td>326.016381</td>\n",
              "      <td>5380400.0</td>\n",
              "    </tr>\n",
              "    <tr>\n",
              "      <th>2012-01-09</th>\n",
              "      <td>646.50</td>\n",
              "      <td>647.00</td>\n",
              "      <td>621.230</td>\n",
              "      <td>622.46</td>\n",
              "      <td>11633500.0</td>\n",
              "      <td>0.0</td>\n",
              "      <td>1.0</td>\n",
              "      <td>324.250932</td>\n",
              "      <td>324.501706</td>\n",
              "      <td>311.576808</td>\n",
              "      <td>312.193712</td>\n",
              "      <td>11633500.0</td>\n",
              "    </tr>\n",
              "    <tr>\n",
              "      <th>2012-01-10</th>\n",
              "      <td>629.75</td>\n",
              "      <td>633.80</td>\n",
              "      <td>616.910</td>\n",
              "      <td>623.14</td>\n",
              "      <td>8782400.0</td>\n",
              "      <td>0.0</td>\n",
              "      <td>1.0</td>\n",
              "      <td>315.849999</td>\n",
              "      <td>317.881269</td>\n",
              "      <td>309.410119</td>\n",
              "      <td>312.534765</td>\n",
              "      <td>8782400.0</td>\n",
              "    </tr>\n",
              "    <tr>\n",
              "      <th>2012-01-11</th>\n",
              "      <td>623.50</td>\n",
              "      <td>629.39</td>\n",
              "      <td>621.124</td>\n",
              "      <td>625.96</td>\n",
              "      <td>4795200.0</td>\n",
              "      <td>0.0</td>\n",
              "      <td>1.0</td>\n",
              "      <td>312.715322</td>\n",
              "      <td>315.669441</td>\n",
              "      <td>311.523644</td>\n",
              "      <td>313.949131</td>\n",
              "      <td>4795200.0</td>\n",
              "    </tr>\n",
              "    <tr>\n",
              "      <th>2012-01-12</th>\n",
              "      <td>631.22</td>\n",
              "      <td>632.89</td>\n",
              "      <td>626.500</td>\n",
              "      <td>629.64</td>\n",
              "      <td>3746600.0</td>\n",
              "      <td>0.0</td>\n",
              "      <td>1.0</td>\n",
              "      <td>316.587275</td>\n",
              "      <td>317.424860</td>\n",
              "      <td>314.219967</td>\n",
              "      <td>315.794828</td>\n",
              "      <td>3746600.0</td>\n",
              "    </tr>\n",
              "    <tr>\n",
              "      <th>2012-01-13</th>\n",
              "      <td>626.26</td>\n",
              "      <td>626.95</td>\n",
              "      <td>621.060</td>\n",
              "      <td>624.99</td>\n",
              "      <td>4609900.0</td>\n",
              "      <td>0.0</td>\n",
              "      <td>1.0</td>\n",
              "      <td>314.099595</td>\n",
              "      <td>314.445664</td>\n",
              "      <td>311.491545</td>\n",
              "      <td>313.462629</td>\n",
              "      <td>4609900.0</td>\n",
              "    </tr>\n",
              "    <tr>\n",
              "      <th>2012-01-17</th>\n",
              "      <td>631.98</td>\n",
              "      <td>631.98</td>\n",
              "      <td>625.680</td>\n",
              "      <td>628.58</td>\n",
              "      <td>3814700.0</td>\n",
              "      <td>0.0</td>\n",
              "      <td>1.0</td>\n",
              "      <td>316.968451</td>\n",
              "      <td>316.968451</td>\n",
              "      <td>313.808697</td>\n",
              "      <td>315.263187</td>\n",
              "      <td>3814700.0</td>\n",
              "    </tr>\n",
              "  </tbody>\n",
              "</table>\n",
              "</div>\n",
              "      <button class=\"colab-df-convert\" onclick=\"convertToInteractive('df-5b1b4593-ba60-405a-b27f-dbc9ead6f2b0')\"\n",
              "              title=\"Convert this dataframe to an interactive table.\"\n",
              "              style=\"display:none;\">\n",
              "        \n",
              "  <svg xmlns=\"http://www.w3.org/2000/svg\" height=\"24px\"viewBox=\"0 0 24 24\"\n",
              "       width=\"24px\">\n",
              "    <path d=\"M0 0h24v24H0V0z\" fill=\"none\"/>\n",
              "    <path d=\"M18.56 5.44l.94 2.06.94-2.06 2.06-.94-2.06-.94-.94-2.06-.94 2.06-2.06.94zm-11 1L8.5 8.5l.94-2.06 2.06-.94-2.06-.94L8.5 2.5l-.94 2.06-2.06.94zm10 10l.94 2.06.94-2.06 2.06-.94-2.06-.94-.94-2.06-.94 2.06-2.06.94z\"/><path d=\"M17.41 7.96l-1.37-1.37c-.4-.4-.92-.59-1.43-.59-.52 0-1.04.2-1.43.59L10.3 9.45l-7.72 7.72c-.78.78-.78 2.05 0 2.83L4 21.41c.39.39.9.59 1.41.59.51 0 1.02-.2 1.41-.59l7.78-7.78 2.81-2.81c.8-.78.8-2.07 0-2.86zM5.41 20L4 18.59l7.72-7.72 1.47 1.35L5.41 20z\"/>\n",
              "  </svg>\n",
              "      </button>\n",
              "      \n",
              "  <style>\n",
              "    .colab-df-container {\n",
              "      display:flex;\n",
              "      flex-wrap:wrap;\n",
              "      gap: 12px;\n",
              "    }\n",
              "\n",
              "    .colab-df-convert {\n",
              "      background-color: #E8F0FE;\n",
              "      border: none;\n",
              "      border-radius: 50%;\n",
              "      cursor: pointer;\n",
              "      display: none;\n",
              "      fill: #1967D2;\n",
              "      height: 32px;\n",
              "      padding: 0 0 0 0;\n",
              "      width: 32px;\n",
              "    }\n",
              "\n",
              "    .colab-df-convert:hover {\n",
              "      background-color: #E2EBFA;\n",
              "      box-shadow: 0px 1px 2px rgba(60, 64, 67, 0.3), 0px 1px 3px 1px rgba(60, 64, 67, 0.15);\n",
              "      fill: #174EA6;\n",
              "    }\n",
              "\n",
              "    [theme=dark] .colab-df-convert {\n",
              "      background-color: #3B4455;\n",
              "      fill: #D2E3FC;\n",
              "    }\n",
              "\n",
              "    [theme=dark] .colab-df-convert:hover {\n",
              "      background-color: #434B5C;\n",
              "      box-shadow: 0px 1px 3px 1px rgba(0, 0, 0, 0.15);\n",
              "      filter: drop-shadow(0px 1px 2px rgba(0, 0, 0, 0.3));\n",
              "      fill: #FFFFFF;\n",
              "    }\n",
              "  </style>\n",
              "\n",
              "      <script>\n",
              "        const buttonEl =\n",
              "          document.querySelector('#df-5b1b4593-ba60-405a-b27f-dbc9ead6f2b0 button.colab-df-convert');\n",
              "        buttonEl.style.display =\n",
              "          google.colab.kernel.accessAllowed ? 'block' : 'none';\n",
              "\n",
              "        async function convertToInteractive(key) {\n",
              "          const element = document.querySelector('#df-5b1b4593-ba60-405a-b27f-dbc9ead6f2b0');\n",
              "          const dataTable =\n",
              "            await google.colab.kernel.invokeFunction('convertToInteractive',\n",
              "                                                     [key], {});\n",
              "          if (!dataTable) return;\n",
              "\n",
              "          const docLinkHtml = 'Like what you see? Visit the ' +\n",
              "            '<a target=\"_blank\" href=https://colab.research.google.com/notebooks/data_table.ipynb>data table notebook</a>'\n",
              "            + ' to learn more about interactive tables.';\n",
              "          element.innerHTML = '';\n",
              "          dataTable['output_type'] = 'display_data';\n",
              "          await google.colab.output.renderOutput(dataTable, element);\n",
              "          const docLink = document.createElement('div');\n",
              "          docLink.innerHTML = docLinkHtml;\n",
              "          element.appendChild(docLink);\n",
              "        }\n",
              "      </script>\n",
              "    </div>\n",
              "  </div>\n",
              "  "
            ],
            "text/plain": [
              "              Open    High      Low  ...    Adj. Low  Adj. Close  Adj. Volume\n",
              "Date                                 ...                                     \n",
              "2012-01-03  652.94  668.15  652.370  ...  327.195020  333.735209    7345600.0\n",
              "2012-01-04  665.03  670.25  660.620  ...  331.332793  335.174652    5722200.0\n",
              "2012-01-05  662.13  663.97  656.230  ...  329.130996  330.525300    6559200.0\n",
              "2012-01-06  659.15  660.00  649.790  ...  325.901025  326.016381    5380400.0\n",
              "2012-01-09  646.50  647.00  621.230  ...  311.576808  312.193712   11633500.0\n",
              "2012-01-10  629.75  633.80  616.910  ...  309.410119  312.534765    8782400.0\n",
              "2012-01-11  623.50  629.39  621.124  ...  311.523644  313.949131    4795200.0\n",
              "2012-01-12  631.22  632.89  626.500  ...  314.219967  315.794828    3746600.0\n",
              "2012-01-13  626.26  626.95  621.060  ...  311.491545  313.462629    4609900.0\n",
              "2012-01-17  631.98  631.98  625.680  ...  313.808697  315.263187    3814700.0\n",
              "\n",
              "[10 rows x 12 columns]"
            ]
          },
          "metadata": {},
          "execution_count": 6
        }
      ]
    },
    {
      "cell_type": "code",
      "source": [
        "\n",
        "df = data['Close']\n",
        "df.head(10)"
      ],
      "metadata": {
        "id": "ORVRa0GnHVvd",
        "colab": {
          "base_uri": "https://localhost:8080/"
        },
        "outputId": "3cd2addd-a712-4271-be26-fde3ff2f146a"
      },
      "execution_count": null,
      "outputs": [
        {
          "output_type": "execute_result",
          "data": {
            "text/plain": [
              "Date\n",
              "2012-01-03    665.41\n",
              "2012-01-04    668.28\n",
              "2012-01-05    659.01\n",
              "2012-01-06    650.02\n",
              "2012-01-09    622.46\n",
              "2012-01-10    623.14\n",
              "2012-01-11    625.96\n",
              "2012-01-12    629.64\n",
              "2012-01-13    624.99\n",
              "2012-01-17    628.58\n",
              "Name: Close, dtype: float64"
            ]
          },
          "metadata": {},
          "execution_count": 8
        }
      ]
    },
    {
      "cell_type": "code",
      "source": [
        "# Tesla - Closing Stock Price\n",
        "data2 = quandl.get('WIKI/TSLA', start_date = start, end_date=end)\n",
        "df2=data2['Close']\n",
        "df2.head(10)"
      ],
      "metadata": {
        "id": "th_R_7VkHV5K",
        "colab": {
          "base_uri": "https://localhost:8080/"
        },
        "outputId": "4a09b6b6-aaa5-41ea-db33-a75a6d86ee49"
      },
      "execution_count": null,
      "outputs": [
        {
          "output_type": "execute_result",
          "data": {
            "text/plain": [
              "Date\n",
              "2012-01-03    28.08\n",
              "2012-01-04    27.71\n",
              "2012-01-05    27.12\n",
              "2012-01-06    26.91\n",
              "2012-01-09    27.25\n",
              "2012-01-10    27.62\n",
              "2012-01-11    28.23\n",
              "2012-01-12    28.25\n",
              "2012-01-13    22.79\n",
              "2012-01-17    26.60\n",
              "Name: Close, dtype: float64"
            ]
          },
          "metadata": {},
          "execution_count": 9
        }
      ]
    },
    {
      "cell_type": "code",
      "source": [
        "# Morgan Stanley - Closing Stock Price\n",
        "data3 = quandl.get('WIKI/MS', start_date = start, end_date=end)\n",
        "df3=data3['Close']\n",
        "df3.head(10)"
      ],
      "metadata": {
        "id": "RU1S9MLrHV-J",
        "colab": {
          "base_uri": "https://localhost:8080/"
        },
        "outputId": "16633914-4295-41ce-c8d8-b5efcaebc4ad"
      },
      "execution_count": null,
      "outputs": [
        {
          "output_type": "execute_result",
          "data": {
            "text/plain": [
              "Date\n",
              "2012-01-03    16.08\n",
              "2012-01-04    15.94\n",
              "2012-01-05    16.28\n",
              "2012-01-06    15.90\n",
              "2012-01-09    16.20\n",
              "2012-01-10    16.89\n",
              "2012-01-11    17.10\n",
              "2012-01-12    17.17\n",
              "2012-01-13    16.63\n",
              "2012-01-17    16.25\n",
              "Name: Close, dtype: float64"
            ]
          },
          "metadata": {},
          "execution_count": 10
        }
      ]
    },
    {
      "cell_type": "code",
      "source": [
        "result = pd.concat([df, df2, df3], axis=1, join=\"inner\")\n",
        "result.columns =['GOOGL', 'TSLA', 'MS']\n",
        "result"
      ],
      "metadata": {
        "id": "sFaWz2-PHV78",
        "colab": {
          "base_uri": "https://localhost:8080/",
          "height": 450
        },
        "outputId": "40134a10-6c19-488f-a0a8-c77bc5f32f82"
      },
      "execution_count": null,
      "outputs": [
        {
          "output_type": "execute_result",
          "data": {
            "text/html": [
              "\n",
              "  <div id=\"df-6e3fff2a-dd18-433b-9509-39ea5193da20\">\n",
              "    <div class=\"colab-df-container\">\n",
              "      <div>\n",
              "<style scoped>\n",
              "    .dataframe tbody tr th:only-of-type {\n",
              "        vertical-align: middle;\n",
              "    }\n",
              "\n",
              "    .dataframe tbody tr th {\n",
              "        vertical-align: top;\n",
              "    }\n",
              "\n",
              "    .dataframe thead th {\n",
              "        text-align: right;\n",
              "    }\n",
              "</style>\n",
              "<table border=\"1\" class=\"dataframe\">\n",
              "  <thead>\n",
              "    <tr style=\"text-align: right;\">\n",
              "      <th></th>\n",
              "      <th>GOOGL</th>\n",
              "      <th>TSLA</th>\n",
              "      <th>MS</th>\n",
              "    </tr>\n",
              "    <tr>\n",
              "      <th>Date</th>\n",
              "      <th></th>\n",
              "      <th></th>\n",
              "      <th></th>\n",
              "    </tr>\n",
              "  </thead>\n",
              "  <tbody>\n",
              "    <tr>\n",
              "      <th>2012-01-03</th>\n",
              "      <td>665.41</td>\n",
              "      <td>28.08</td>\n",
              "      <td>16.08</td>\n",
              "    </tr>\n",
              "    <tr>\n",
              "      <th>2012-01-04</th>\n",
              "      <td>668.28</td>\n",
              "      <td>27.71</td>\n",
              "      <td>15.94</td>\n",
              "    </tr>\n",
              "    <tr>\n",
              "      <th>2012-01-05</th>\n",
              "      <td>659.01</td>\n",
              "      <td>27.12</td>\n",
              "      <td>16.28</td>\n",
              "    </tr>\n",
              "    <tr>\n",
              "      <th>2012-01-06</th>\n",
              "      <td>650.02</td>\n",
              "      <td>26.91</td>\n",
              "      <td>15.90</td>\n",
              "    </tr>\n",
              "    <tr>\n",
              "      <th>2012-01-09</th>\n",
              "      <td>622.46</td>\n",
              "      <td>27.25</td>\n",
              "      <td>16.20</td>\n",
              "    </tr>\n",
              "    <tr>\n",
              "      <th>...</th>\n",
              "      <td>...</td>\n",
              "      <td>...</td>\n",
              "      <td>...</td>\n",
              "    </tr>\n",
              "    <tr>\n",
              "      <th>2017-12-22</th>\n",
              "      <td>1068.86</td>\n",
              "      <td>325.20</td>\n",
              "      <td>52.72</td>\n",
              "    </tr>\n",
              "    <tr>\n",
              "      <th>2017-12-26</th>\n",
              "      <td>1065.85</td>\n",
              "      <td>317.29</td>\n",
              "      <td>52.47</td>\n",
              "    </tr>\n",
              "    <tr>\n",
              "      <th>2017-12-27</th>\n",
              "      <td>1060.20</td>\n",
              "      <td>311.64</td>\n",
              "      <td>52.57</td>\n",
              "    </tr>\n",
              "    <tr>\n",
              "      <th>2017-12-28</th>\n",
              "      <td>1055.95</td>\n",
              "      <td>315.36</td>\n",
              "      <td>52.65</td>\n",
              "    </tr>\n",
              "    <tr>\n",
              "      <th>2017-12-29</th>\n",
              "      <td>1053.40</td>\n",
              "      <td>311.35</td>\n",
              "      <td>52.47</td>\n",
              "    </tr>\n",
              "  </tbody>\n",
              "</table>\n",
              "<p>1508 rows × 3 columns</p>\n",
              "</div>\n",
              "      <button class=\"colab-df-convert\" onclick=\"convertToInteractive('df-6e3fff2a-dd18-433b-9509-39ea5193da20')\"\n",
              "              title=\"Convert this dataframe to an interactive table.\"\n",
              "              style=\"display:none;\">\n",
              "        \n",
              "  <svg xmlns=\"http://www.w3.org/2000/svg\" height=\"24px\"viewBox=\"0 0 24 24\"\n",
              "       width=\"24px\">\n",
              "    <path d=\"M0 0h24v24H0V0z\" fill=\"none\"/>\n",
              "    <path d=\"M18.56 5.44l.94 2.06.94-2.06 2.06-.94-2.06-.94-.94-2.06-.94 2.06-2.06.94zm-11 1L8.5 8.5l.94-2.06 2.06-.94-2.06-.94L8.5 2.5l-.94 2.06-2.06.94zm10 10l.94 2.06.94-2.06 2.06-.94-2.06-.94-.94-2.06-.94 2.06-2.06.94z\"/><path d=\"M17.41 7.96l-1.37-1.37c-.4-.4-.92-.59-1.43-.59-.52 0-1.04.2-1.43.59L10.3 9.45l-7.72 7.72c-.78.78-.78 2.05 0 2.83L4 21.41c.39.39.9.59 1.41.59.51 0 1.02-.2 1.41-.59l7.78-7.78 2.81-2.81c.8-.78.8-2.07 0-2.86zM5.41 20L4 18.59l7.72-7.72 1.47 1.35L5.41 20z\"/>\n",
              "  </svg>\n",
              "      </button>\n",
              "      \n",
              "  <style>\n",
              "    .colab-df-container {\n",
              "      display:flex;\n",
              "      flex-wrap:wrap;\n",
              "      gap: 12px;\n",
              "    }\n",
              "\n",
              "    .colab-df-convert {\n",
              "      background-color: #E8F0FE;\n",
              "      border: none;\n",
              "      border-radius: 50%;\n",
              "      cursor: pointer;\n",
              "      display: none;\n",
              "      fill: #1967D2;\n",
              "      height: 32px;\n",
              "      padding: 0 0 0 0;\n",
              "      width: 32px;\n",
              "    }\n",
              "\n",
              "    .colab-df-convert:hover {\n",
              "      background-color: #E2EBFA;\n",
              "      box-shadow: 0px 1px 2px rgba(60, 64, 67, 0.3), 0px 1px 3px 1px rgba(60, 64, 67, 0.15);\n",
              "      fill: #174EA6;\n",
              "    }\n",
              "\n",
              "    [theme=dark] .colab-df-convert {\n",
              "      background-color: #3B4455;\n",
              "      fill: #D2E3FC;\n",
              "    }\n",
              "\n",
              "    [theme=dark] .colab-df-convert:hover {\n",
              "      background-color: #434B5C;\n",
              "      box-shadow: 0px 1px 3px 1px rgba(0, 0, 0, 0.15);\n",
              "      filter: drop-shadow(0px 1px 2px rgba(0, 0, 0, 0.3));\n",
              "      fill: #FFFFFF;\n",
              "    }\n",
              "  </style>\n",
              "\n",
              "      <script>\n",
              "        const buttonEl =\n",
              "          document.querySelector('#df-6e3fff2a-dd18-433b-9509-39ea5193da20 button.colab-df-convert');\n",
              "        buttonEl.style.display =\n",
              "          google.colab.kernel.accessAllowed ? 'block' : 'none';\n",
              "\n",
              "        async function convertToInteractive(key) {\n",
              "          const element = document.querySelector('#df-6e3fff2a-dd18-433b-9509-39ea5193da20');\n",
              "          const dataTable =\n",
              "            await google.colab.kernel.invokeFunction('convertToInteractive',\n",
              "                                                     [key], {});\n",
              "          if (!dataTable) return;\n",
              "\n",
              "          const docLinkHtml = 'Like what you see? Visit the ' +\n",
              "            '<a target=\"_blank\" href=https://colab.research.google.com/notebooks/data_table.ipynb>data table notebook</a>'\n",
              "            + ' to learn more about interactive tables.';\n",
              "          element.innerHTML = '';\n",
              "          dataTable['output_type'] = 'display_data';\n",
              "          await google.colab.output.renderOutput(dataTable, element);\n",
              "          const docLink = document.createElement('div');\n",
              "          docLink.innerHTML = docLinkHtml;\n",
              "          element.appendChild(docLink);\n",
              "        }\n",
              "      </script>\n",
              "    </div>\n",
              "  </div>\n",
              "  "
            ],
            "text/plain": [
              "              GOOGL    TSLA     MS\n",
              "Date                              \n",
              "2012-01-03   665.41   28.08  16.08\n",
              "2012-01-04   668.28   27.71  15.94\n",
              "2012-01-05   659.01   27.12  16.28\n",
              "2012-01-06   650.02   26.91  15.90\n",
              "2012-01-09   622.46   27.25  16.20\n",
              "...             ...     ...    ...\n",
              "2017-12-22  1068.86  325.20  52.72\n",
              "2017-12-26  1065.85  317.29  52.47\n",
              "2017-12-27  1060.20  311.64  52.57\n",
              "2017-12-28  1055.95  315.36  52.65\n",
              "2017-12-29  1053.40  311.35  52.47\n",
              "\n",
              "[1508 rows x 3 columns]"
            ]
          },
          "metadata": {},
          "execution_count": 23
        }
      ]
    },
    {
      "cell_type": "code",
      "source": [
        "result.info()"
      ],
      "metadata": {
        "colab": {
          "base_uri": "https://localhost:8080/"
        },
        "id": "pegHIw-JxWqA",
        "outputId": "5592472c-5d2b-4d8e-b117-9ae73e26587d"
      },
      "execution_count": null,
      "outputs": [
        {
          "output_type": "stream",
          "name": "stdout",
          "text": [
            "<class 'pandas.core.frame.DataFrame'>\n",
            "DatetimeIndex: 1508 entries, 2012-01-03 to 2017-12-29\n",
            "Data columns (total 3 columns):\n",
            " #   Column  Non-Null Count  Dtype  \n",
            "---  ------  --------------  -----  \n",
            " 0   GOOGL   1508 non-null   float64\n",
            " 1   TSLA    1508 non-null   float64\n",
            " 2   MS      1508 non-null   float64\n",
            "dtypes: float64(3)\n",
            "memory usage: 47.1 KB\n"
          ]
        }
      ]
    },
    {
      "cell_type": "code",
      "source": [
        "Maintenant que nous avons les données pour les 3 entreprises de notre portefeuille, nous allons pouvoir commencer l'analyse. \n",
        "Comme dans beaucoup de modeles financiers (Black-Scholes par exemple), il est preferable de calculer le log return sur une longue periode au lieu du rendement moyen.\n",
        "Concernant l'allocation des actions dans le portefeuille, nous allons generer cela de maniere aleatoire et ensuite nous effectuerons une simulation Monte Carlo afin d'obtenir la repartition qui nous permettra d'avoir le meilleur ratio rendement/risque (Sharpe Ratio) ou bien le minimum de volatilite.\n",
        "Dans ce projet, nous considererons que le risk free rate est egal à 1%"
      ],
      "metadata": {
        "id": "7KZ4ngrFHWAy"
      },
      "execution_count": null,
      "outputs": []
    },
    {
      "cell_type": "code",
      "source": [
        "log_return = np.log(1 + result.pct_change())\n",
        "\n",
        "log_return\n"
      ],
      "metadata": {
        "id": "fbsYhzUyHWC1",
        "colab": {
          "base_uri": "https://localhost:8080/",
          "height": 450
        },
        "outputId": "99ee1a8c-528c-487e-faeb-1d28fff12242"
      },
      "execution_count": null,
      "outputs": [
        {
          "output_type": "execute_result",
          "data": {
            "text/html": [
              "\n",
              "  <div id=\"df-e09a43f0-ed1e-4420-8de2-25cd8f70b1ca\">\n",
              "    <div class=\"colab-df-container\">\n",
              "      <div>\n",
              "<style scoped>\n",
              "    .dataframe tbody tr th:only-of-type {\n",
              "        vertical-align: middle;\n",
              "    }\n",
              "\n",
              "    .dataframe tbody tr th {\n",
              "        vertical-align: top;\n",
              "    }\n",
              "\n",
              "    .dataframe thead th {\n",
              "        text-align: right;\n",
              "    }\n",
              "</style>\n",
              "<table border=\"1\" class=\"dataframe\">\n",
              "  <thead>\n",
              "    <tr style=\"text-align: right;\">\n",
              "      <th></th>\n",
              "      <th>GOOGL</th>\n",
              "      <th>TSLA</th>\n",
              "      <th>MS</th>\n",
              "    </tr>\n",
              "    <tr>\n",
              "      <th>Date</th>\n",
              "      <th></th>\n",
              "      <th></th>\n",
              "      <th></th>\n",
              "    </tr>\n",
              "  </thead>\n",
              "  <tbody>\n",
              "    <tr>\n",
              "      <th>2012-01-03</th>\n",
              "      <td>NaN</td>\n",
              "      <td>NaN</td>\n",
              "      <td>NaN</td>\n",
              "    </tr>\n",
              "    <tr>\n",
              "      <th>2012-01-04</th>\n",
              "      <td>0.004304</td>\n",
              "      <td>-0.013264</td>\n",
              "      <td>-0.008745</td>\n",
              "    </tr>\n",
              "    <tr>\n",
              "      <th>2012-01-05</th>\n",
              "      <td>-0.013969</td>\n",
              "      <td>-0.021522</td>\n",
              "      <td>0.021106</td>\n",
              "    </tr>\n",
              "    <tr>\n",
              "      <th>2012-01-06</th>\n",
              "      <td>-0.013736</td>\n",
              "      <td>-0.007773</td>\n",
              "      <td>-0.023618</td>\n",
              "    </tr>\n",
              "    <tr>\n",
              "      <th>2012-01-09</th>\n",
              "      <td>-0.043324</td>\n",
              "      <td>0.012556</td>\n",
              "      <td>0.018692</td>\n",
              "    </tr>\n",
              "    <tr>\n",
              "      <th>...</th>\n",
              "      <td>...</td>\n",
              "      <td>...</td>\n",
              "      <td>...</td>\n",
              "    </tr>\n",
              "    <tr>\n",
              "      <th>2017-12-22</th>\n",
              "      <td>-0.001860</td>\n",
              "      <td>-0.019670</td>\n",
              "      <td>-0.003030</td>\n",
              "    </tr>\n",
              "    <tr>\n",
              "      <th>2017-12-26</th>\n",
              "      <td>-0.002820</td>\n",
              "      <td>-0.024624</td>\n",
              "      <td>-0.004753</td>\n",
              "    </tr>\n",
              "    <tr>\n",
              "      <th>2017-12-27</th>\n",
              "      <td>-0.005315</td>\n",
              "      <td>-0.017968</td>\n",
              "      <td>0.001904</td>\n",
              "    </tr>\n",
              "    <tr>\n",
              "      <th>2017-12-28</th>\n",
              "      <td>-0.004017</td>\n",
              "      <td>0.011866</td>\n",
              "      <td>0.001521</td>\n",
              "    </tr>\n",
              "    <tr>\n",
              "      <th>2017-12-29</th>\n",
              "      <td>-0.002418</td>\n",
              "      <td>-0.012797</td>\n",
              "      <td>-0.003425</td>\n",
              "    </tr>\n",
              "  </tbody>\n",
              "</table>\n",
              "<p>1508 rows × 3 columns</p>\n",
              "</div>\n",
              "      <button class=\"colab-df-convert\" onclick=\"convertToInteractive('df-e09a43f0-ed1e-4420-8de2-25cd8f70b1ca')\"\n",
              "              title=\"Convert this dataframe to an interactive table.\"\n",
              "              style=\"display:none;\">\n",
              "        \n",
              "  <svg xmlns=\"http://www.w3.org/2000/svg\" height=\"24px\"viewBox=\"0 0 24 24\"\n",
              "       width=\"24px\">\n",
              "    <path d=\"M0 0h24v24H0V0z\" fill=\"none\"/>\n",
              "    <path d=\"M18.56 5.44l.94 2.06.94-2.06 2.06-.94-2.06-.94-.94-2.06-.94 2.06-2.06.94zm-11 1L8.5 8.5l.94-2.06 2.06-.94-2.06-.94L8.5 2.5l-.94 2.06-2.06.94zm10 10l.94 2.06.94-2.06 2.06-.94-2.06-.94-.94-2.06-.94 2.06-2.06.94z\"/><path d=\"M17.41 7.96l-1.37-1.37c-.4-.4-.92-.59-1.43-.59-.52 0-1.04.2-1.43.59L10.3 9.45l-7.72 7.72c-.78.78-.78 2.05 0 2.83L4 21.41c.39.39.9.59 1.41.59.51 0 1.02-.2 1.41-.59l7.78-7.78 2.81-2.81c.8-.78.8-2.07 0-2.86zM5.41 20L4 18.59l7.72-7.72 1.47 1.35L5.41 20z\"/>\n",
              "  </svg>\n",
              "      </button>\n",
              "      \n",
              "  <style>\n",
              "    .colab-df-container {\n",
              "      display:flex;\n",
              "      flex-wrap:wrap;\n",
              "      gap: 12px;\n",
              "    }\n",
              "\n",
              "    .colab-df-convert {\n",
              "      background-color: #E8F0FE;\n",
              "      border: none;\n",
              "      border-radius: 50%;\n",
              "      cursor: pointer;\n",
              "      display: none;\n",
              "      fill: #1967D2;\n",
              "      height: 32px;\n",
              "      padding: 0 0 0 0;\n",
              "      width: 32px;\n",
              "    }\n",
              "\n",
              "    .colab-df-convert:hover {\n",
              "      background-color: #E2EBFA;\n",
              "      box-shadow: 0px 1px 2px rgba(60, 64, 67, 0.3), 0px 1px 3px 1px rgba(60, 64, 67, 0.15);\n",
              "      fill: #174EA6;\n",
              "    }\n",
              "\n",
              "    [theme=dark] .colab-df-convert {\n",
              "      background-color: #3B4455;\n",
              "      fill: #D2E3FC;\n",
              "    }\n",
              "\n",
              "    [theme=dark] .colab-df-convert:hover {\n",
              "      background-color: #434B5C;\n",
              "      box-shadow: 0px 1px 3px 1px rgba(0, 0, 0, 0.15);\n",
              "      filter: drop-shadow(0px 1px 2px rgba(0, 0, 0, 0.3));\n",
              "      fill: #FFFFFF;\n",
              "    }\n",
              "  </style>\n",
              "\n",
              "      <script>\n",
              "        const buttonEl =\n",
              "          document.querySelector('#df-e09a43f0-ed1e-4420-8de2-25cd8f70b1ca button.colab-df-convert');\n",
              "        buttonEl.style.display =\n",
              "          google.colab.kernel.accessAllowed ? 'block' : 'none';\n",
              "\n",
              "        async function convertToInteractive(key) {\n",
              "          const element = document.querySelector('#df-e09a43f0-ed1e-4420-8de2-25cd8f70b1ca');\n",
              "          const dataTable =\n",
              "            await google.colab.kernel.invokeFunction('convertToInteractive',\n",
              "                                                     [key], {});\n",
              "          if (!dataTable) return;\n",
              "\n",
              "          const docLinkHtml = 'Like what you see? Visit the ' +\n",
              "            '<a target=\"_blank\" href=https://colab.research.google.com/notebooks/data_table.ipynb>data table notebook</a>'\n",
              "            + ' to learn more about interactive tables.';\n",
              "          element.innerHTML = '';\n",
              "          dataTable['output_type'] = 'display_data';\n",
              "          await google.colab.output.renderOutput(dataTable, element);\n",
              "          const docLink = document.createElement('div');\n",
              "          docLink.innerHTML = docLinkHtml;\n",
              "          element.appendChild(docLink);\n",
              "        }\n",
              "      </script>\n",
              "    </div>\n",
              "  </div>\n",
              "  "
            ],
            "text/plain": [
              "               GOOGL      TSLA        MS\n",
              "Date                                    \n",
              "2012-01-03       NaN       NaN       NaN\n",
              "2012-01-04  0.004304 -0.013264 -0.008745\n",
              "2012-01-05 -0.013969 -0.021522  0.021106\n",
              "2012-01-06 -0.013736 -0.007773 -0.023618\n",
              "2012-01-09 -0.043324  0.012556  0.018692\n",
              "...              ...       ...       ...\n",
              "2017-12-22 -0.001860 -0.019670 -0.003030\n",
              "2017-12-26 -0.002820 -0.024624 -0.004753\n",
              "2017-12-27 -0.005315 -0.017968  0.001904\n",
              "2017-12-28 -0.004017  0.011866  0.001521\n",
              "2017-12-29 -0.002418 -0.012797 -0.003425\n",
              "\n",
              "[1508 rows x 3 columns]"
            ]
          },
          "metadata": {},
          "execution_count": 35
        }
      ]
    },
    {
      "cell_type": "code",
      "source": [
        "number_stocks = 3\n",
        "\n",
        "random_weights = np.array(np.random.random(number_stocks))\n",
        "\n",
        "sum_weights = np.sum(random_weights)\n",
        "\n",
        "rebalance = random_weights / sum_weights \n",
        "\n",
        "rebalance"
      ],
      "metadata": {
        "colab": {
          "base_uri": "https://localhost:8080/"
        },
        "id": "NwUi9iNwxWfU",
        "outputId": "f580cf90-557f-47a8-da7c-057b23f14e6f"
      },
      "execution_count": null,
      "outputs": [
        {
          "output_type": "execute_result",
          "data": {
            "text/plain": [
              "array([0.34693935, 0.44087486, 0.21218579])"
            ]
          },
          "metadata": {},
          "execution_count": 33
        }
      ]
    },
    {
      "cell_type": "code",
      "source": [
        "daily_std = log_return.std()\n",
        "daily_std"
      ],
      "metadata": {
        "colab": {
          "base_uri": "https://localhost:8080/"
        },
        "id": "O6deyc6nxWse",
        "outputId": "b4af2357-342d-432a-e9d8-4e2f01b69672"
      },
      "execution_count": null,
      "outputs": [
        {
          "output_type": "execute_result",
          "data": {
            "text/plain": [
              "GOOGL    0.022427\n",
              "TSLA     0.030312\n",
              "MS       0.018026\n",
              "dtype: float64"
            ]
          },
          "metadata": {},
          "execution_count": 36
        }
      ]
    },
    {
      "cell_type": "code",
      "source": [
        "annual_volatility = log_return.std()*252**.5\n",
        "annual_volatility"
      ],
      "metadata": {
        "colab": {
          "base_uri": "https://localhost:8080/"
        },
        "id": "06D6golAxWxf",
        "outputId": "ba2322d2-d09b-48ac-f812-15b2a9c8eb9b"
      },
      "execution_count": null,
      "outputs": [
        {
          "output_type": "execute_result",
          "data": {
            "text/plain": [
              "GOOGL    0.356010\n",
              "TSLA     0.481182\n",
              "MS       0.286154\n",
              "dtype: float64"
            ]
          },
          "metadata": {},
          "execution_count": 38
        }
      ]
    },
    {
      "cell_type": "code",
      "source": [
        "str_vol = str(round(annual_volatility, 4)*100)\n",
        "\n",
        "fig, ax = plt.subplots()\n",
        "log_return.hist(ax=ax, bins=50, alpha=0.6)\n",
        "#ax.set_xlabel(“Log return”)\n",
        "#ax.set_ylabel(“Freq of log return”)\n",
        "#ax.set_title(“AAPL volatility: ” + str_vol + “%”)\n",
        "plt.show()"
      ],
      "metadata": {
        "colab": {
          "base_uri": "https://localhost:8080/",
          "height": 335
        },
        "id": "WKgvlWfgxW0X",
        "outputId": "39231a93-9f1f-433e-b1bd-dde655a8c0f7"
      },
      "execution_count": null,
      "outputs": [
        {
          "output_type": "stream",
          "name": "stderr",
          "text": [
            "/usr/local/lib/python3.7/dist-packages/ipykernel_launcher.py:4: UserWarning: To output multiple subplots, the figure containing the passed axes is being cleared\n",
            "  after removing the cwd from sys.path.\n"
          ]
        },
        {
          "output_type": "display_data",
          "data": {
            "image/png": "[encoded data removed]",
            "text/plain": [
              "<Figure size 432x288 with 4 Axes>"
            ]
          },
          "metadata": {
            "needs_background": "light"
          }
        }
      ]
    },
    {
      "cell_type": "code",
      "source": [
        "expected_return = np.sum(log_return.mean() * rebalance * 252)\n",
        "expected_return"
      ],
      "metadata": {
        "colab": {
          "base_uri": "https://localhost:8080/"
        },
        "id": "CkVo0yCcxW3O",
        "outputId": "21b84821-2014-46b6-b09d-a621cc8a58aa"
      },
      "execution_count": null,
      "outputs": [
        {
          "output_type": "execute_result",
          "data": {
            "text/plain": [
              "0.24598063604209186"
            ]
          },
          "metadata": {},
          "execution_count": 43
        }
      ]
    },
    {
      "cell_type": "code",
      "source": [
        "rf_rate = 0.01\n",
        "sharpe_ratio = (expected_return - rf_rate)/annual_volatility\n",
        "sharpe_ratio"
      ],
      "metadata": {
        "colab": {
          "base_uri": "https://localhost:8080/"
        },
        "id": "7QrSYYcNxW5x",
        "outputId": "3a4811e7-6764-4567-fada-1ca5e4ee8a0e"
      },
      "execution_count": null,
      "outputs": [
        {
          "output_type": "execute_result",
          "data": {
            "text/plain": [
              "GOOGL    0.662848\n",
              "TSLA     0.490419\n",
              "MS       0.824663\n",
              "dtype: float64"
            ]
          },
          "metadata": {},
          "execution_count": 46
        }
      ]
    },
    {
      "cell_type": "code",
      "source": [
        "#Monte Carlo\n",
        "num_simulations = 1000\n",
        "\n",
        "all_weights = np.zeros((num_simulations, number_stocks))\n",
        "\n",
        "return_array = np.zeros(num_simulations)\n",
        "\n",
        "volatility_array = np.zeros(num_simulations)\n",
        "\n",
        "sharpe_ratio_array = np.zeros(num_simulations)\n",
        "\n",
        "for x in range(num_simulations):\n",
        "\n",
        "  weights = np.array(np.random.random(number_stocks))\n",
        "  weights = weights / np.sum(weights)\n",
        "\n",
        "  all_weights[x, :] = weights\n",
        "\n",
        "  return_array[x] = np.sum(log_return.mean() * weights * 252)\n",
        "\n",
        "  volatility_array[x] = np.sqrt(np.dot(log_return.cov() * 252, weights))\n",
        "\n",
        "  sharpe_ratio_array[x] = (return_array - rf_rate) / volatility_array[x]\n",
        "\n",
        "\n",
        "\n",
        "simulation = [return_array, volatility_array, sharpe_ratio_array, all_weights]\n",
        "\n",
        "df = pd.DataFrame(data=simulation).T\n",
        "\n",
        "df.columns = [\"Return\", \"Volatility\", \"Sharpe Ratio\", \"Weights\"]\n",
        "\n",
        "\n",
        "print('')\n",
        "print('=' * 80)\n",
        "print('MONTE CARLO SIMULATIONS:')\n",
        "print('=' * 80)\n",
        "print(df.head())\n",
        "print('=' * 80)\n",
        "\n",
        "\n"
      ],
      "metadata": {
        "colab": {
          "base_uri": "https://localhost:8080/",
          "height": 317
        },
        "id": "7fSSbKMcxW7_",
        "outputId": "a26e7797-54e3-491e-bd43-09b4cd13ff2d"
      },
      "execution_count": null,
      "outputs": [
        {
          "output_type": "error",
          "ename": "ValueError",
          "evalue": "ignored",
          "traceback": [
            "\u001b[0;31m---------------------------------------------------------------------------\u001b[0m",
            "\u001b[0;31mTypeError\u001b[0m                                 Traceback (most recent call last)",
            "\u001b[0;31mTypeError\u001b[0m: only size-1 arrays can be converted to Python scalars",
            "\nThe above exception was the direct cause of the following exception:\n",
            "\u001b[0;31mValueError\u001b[0m                                Traceback (most recent call last)",
            "\u001b[0;32m<ipython-input-51-78ae7098c9ee>\u001b[0m in \u001b[0;36m<module>\u001b[0;34m()\u001b[0m\n\u001b[1;32m     19\u001b[0m   \u001b[0mreturn_array\u001b[0m\u001b[0;34m[\u001b[0m\u001b[0mx\u001b[0m\u001b[0;34m]\u001b[0m \u001b[0;34m=\u001b[0m \u001b[0mnp\u001b[0m\u001b[0;34m.\u001b[0m\u001b[0msum\u001b[0m\u001b[0;34m(\u001b[0m\u001b[0mlog_return\u001b[0m\u001b[0;34m.\u001b[0m\u001b[0mmean\u001b[0m\u001b[0;34m(\u001b[0m\u001b[0;34m)\u001b[0m \u001b[0;34m*\u001b[0m \u001b[0mweights\u001b[0m \u001b[0;34m*\u001b[0m \u001b[0;36m252\u001b[0m\u001b[0;34m)\u001b[0m\u001b[0;34m\u001b[0m\u001b[0;34m\u001b[0m\u001b[0m\n\u001b[1;32m     20\u001b[0m \u001b[0;34m\u001b[0m\u001b[0m\n\u001b[0;32m---> 21\u001b[0;31m   \u001b[0mvolatility_array\u001b[0m\u001b[0;34m[\u001b[0m\u001b[0mx\u001b[0m\u001b[0;34m]\u001b[0m \u001b[0;34m=\u001b[0m \u001b[0mnp\u001b[0m\u001b[0;34m.\u001b[0m\u001b[0msqrt\u001b[0m\u001b[0;34m(\u001b[0m\u001b[0mnp\u001b[0m\u001b[0;34m.\u001b[0m\u001b[0mdot\u001b[0m\u001b[0;34m(\u001b[0m\u001b[0mlog_return\u001b[0m\u001b[0;34m.\u001b[0m\u001b[0mcov\u001b[0m\u001b[0;34m(\u001b[0m\u001b[0;34m)\u001b[0m \u001b[0;34m*\u001b[0m \u001b[0;36m252\u001b[0m\u001b[0;34m,\u001b[0m \u001b[0mweights\u001b[0m\u001b[0;34m)\u001b[0m\u001b[0;34m)\u001b[0m\u001b[0;34m\u001b[0m\u001b[0;34m\u001b[0m\u001b[0m\n\u001b[0m\u001b[1;32m     22\u001b[0m \u001b[0;34m\u001b[0m\u001b[0m\n\u001b[1;32m     23\u001b[0m   \u001b[0msharpe_ratio_array\u001b[0m\u001b[0;34m[\u001b[0m\u001b[0mx\u001b[0m\u001b[0;34m]\u001b[0m \u001b[0;34m=\u001b[0m \u001b[0;34m(\u001b[0m\u001b[0mreturn_array\u001b[0m \u001b[0;34m-\u001b[0m \u001b[0mrf_rate\u001b[0m\u001b[0;34m)\u001b[0m \u001b[0;34m/\u001b[0m \u001b[0mvolatility_array\u001b[0m\u001b[0;34m[\u001b[0m\u001b[0mx\u001b[0m\u001b[0;34m]\u001b[0m\u001b[0;34m\u001b[0m\u001b[0;34m\u001b[0m\u001b[0m\n",
            "\u001b[0;31mValueError\u001b[0m: setting an array element with a sequence."
          ]
        }
      ]
    },
    {
      "cell_type": "markdown",
      "source": [
        "# Now we'll take the simulation with the best risk/reward\n",
        "\n",
        "max_sharpe_ratio = df.loc[df['Sharpe Ratio'].idxmax()]\n",
        "\n",
        "#Now we'll take the simulation with the minimum of volatility (more conservative)\n",
        "\n",
        "min_volatility = df.loc[df['Volatility'].idxmin()]\n",
        "\n",
        "print('')\n",
        "print('=' * 80)\n",
        "print('MAX SHARPE RATIO:')\n",
        "print('-' * 80)\n",
        "print(max_sharpe_ratio)\n",
        "print('-' * 80)\n",
        "\n",
        "print('')\n",
        "print('=' * 80)\n",
        "print('MIN VOLATILITY:')\n",
        "print('-' * 80)\n",
        "print(min_volatility)\n",
        "print('-' * 80)\n"
      ],
      "metadata": {
        "id": "56oPAHKqE5-2"
      }
    },
    {
      "cell_type": "code",
      "source": [
        ""
      ],
      "metadata": {
        "id": "EJH9MOQpHgrW"
      },
      "execution_count": null,
      "outputs": []
    },
    {
      "cell_type": "code",
      "source": [
        ""
      ],
      "metadata": {
        "id": "eJrYnqNYHgyw"
      },
      "execution_count": null,
      "outputs": []
    },
    {
      "cell_type": "code",
      "source": [
        ""
      ],
      "metadata": {
        "id": "Xf9i609CHg1G"
      },
      "execution_count": null,
      "outputs": []
    },
    {
      "cell_type": "code",
      "source": [
        ""
      ],
      "metadata": {
        "id": "CojFNeghHg3X"
      },
      "execution_count": null,
      "outputs": []
    },
    {
      "cell_type": "code",
      "source": [
        ""
      ],
      "metadata": {
        "id": "h_ASB6gxHg5m"
      },
      "execution_count": null,
      "outputs": []
    },
    {
      "cell_type": "code",
      "source": [
        ""
      ],
      "metadata": {
        "id": "k79P-B0JHg8G"
      },
      "execution_count": null,
      "outputs": []
    },
    {
      "cell_type": "code",
      "source": [
        ""
      ],
      "metadata": {
        "id": "yFOHo4r0Hg-O"
      },
      "execution_count": null,
      "outputs": []
    },
    {
      "cell_type": "code",
      "source": [
        ""
      ],
      "metadata": {
        "id": "pZ9CPyJnHhAW"
      },
      "execution_count": null,
      "outputs": []
    },
    {
      "cell_type": "code",
      "source": [
        ""
      ],
      "metadata": {
        "id": "IjKNL82zHhCW"
      },
      "execution_count": null,
      "outputs": []
    }
  ]
}